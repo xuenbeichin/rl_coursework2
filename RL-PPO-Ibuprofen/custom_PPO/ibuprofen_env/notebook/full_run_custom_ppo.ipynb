{
 "cells": [
  {
   "metadata": {
    "ExecuteTime": {
     "end_time": "2024-12-04T14:42:07.435351Z",
     "start_time": "2024-12-04T14:42:07.423042Z"
    }
   },
   "cell_type": "code",
   "source": [
    "import gymnasium as gym\n",
    "import torch\n",
    "import torch.nn as nn\n",
    "import torch.optim as optim\n",
    "import matplotlib.pyplot as plt\n",
    "import numpy as np\n",
    "import optuna\n",
    "import torch.nn.functional as F"
   ],
   "id": "9fa57bf07cff9cb1",
   "outputs": [],
   "execution_count": 21
  },
  {
   "cell_type": "code",
   "id": "initial_id",
   "metadata": {
    "collapsed": true,
    "ExecuteTime": {
     "end_time": "2024-12-04T14:42:07.472341Z",
     "start_time": "2024-12-04T14:42:07.454354Z"
    }
   },
   "source": [
    "class IbuprofenEnv(gym.Env):\n",
    "    def __init__(self, normalize=False):\n",
    "        super(IbuprofenEnv, self).__init__()\n",
    "\n",
    "        # Define the action space and observation space\n",
    "        self.action_space = gym.spaces.Discrete(5)\n",
    "        self.observation_space = gym.spaces.Box(low=0, high=100, shape=(1,), dtype=np.float32)\n",
    "\n",
    "        # Pharmacokinetics parameters\n",
    "        self.therapeutic_range = (10, 50)\n",
    "        self.half_life = 2.0\n",
    "        self.clearance_rate = 0.693 / self.half_life\n",
    "        self.time_step_hours = 1\n",
    "        self.bioavailability = 0.9\n",
    "        self.volume_of_distribution = 0.15\n",
    "        self.max_steps = 24\n",
    "        self.current_step = 0\n",
    "        self.plasma_concentration = 0.0\n",
    "        self.state_buffer = []\n",
    "        self.normalize = normalize\n",
    "\n",
    "    def reset(self, seed=None, **kwargs):\n",
    "        super().reset(seed=seed)\n",
    "        self.current_step = 0\n",
    "        self.plasma_concentration = 0.0\n",
    "        self.state_buffer = []\n",
    "        state = np.array([self.plasma_concentration], dtype=np.float32)\n",
    "        return self._normalize(state), {}\n",
    "\n",
    "    def step(self, action):\n",
    "        # Dose administration\n",
    "        dose_mg = action * 200\n",
    "        absorbed_mg = dose_mg * self.bioavailability\n",
    "        absorbed_concentration = absorbed_mg / (self.volume_of_distribution * 70)\n",
    "        self.plasma_concentration += absorbed_concentration\n",
    "        self.plasma_concentration *= np.exp(-self.clearance_rate * self.time_step_hours)\n",
    "    \n",
    "        state = np.array([self.plasma_concentration], dtype=np.float32)\n",
    "        normalized_state = self._normalize(state)\n",
    "    \n",
    "        self.state_buffer.append(self.plasma_concentration)\n",
    "    \n",
    "        # Reward shaping logic\n",
    "        if self.therapeutic_range[0] <= self.plasma_concentration <= self.therapeutic_range[1]:\n",
    "            # Positive reward for being in the therapeutic range\n",
    "            reward = 10\n",
    "        else:\n",
    "            # Penalty for being below or above the therapeutic range\n",
    "            if self.plasma_concentration < self.therapeutic_range[0]:\n",
    "                penalty = (self.therapeutic_range[0] - self.plasma_concentration) * 0.1\n",
    "                reward = -5 - penalty\n",
    "            elif self.plasma_concentration > self.therapeutic_range[1]:\n",
    "                penalty = (self.plasma_concentration - self.therapeutic_range[1]) * 0.1\n",
    "                reward = -5 - penalty\n",
    "    \n",
    "        # Add gradual penalty for instability (fluctuations in concentration)\n",
    "        if len(self.state_buffer) > 1:\n",
    "            fluctuation_penalty = abs(self.state_buffer[-1] - self.state_buffer[-2]) * 0.05\n",
    "            reward -= fluctuation_penalty\n",
    "    \n",
    "        # Add a heavy penalty for toxic concentrations\n",
    "        if self.plasma_concentration > 100:\n",
    "            reward -= 15  # Severe penalty for toxic levels\n",
    "    \n",
    "        self.current_step += 1\n",
    "        done = self.current_step >= self.max_steps\n",
    "        truncated = False  # For this environment, there's no specific truncation condition\n",
    "        info = {}  # Additional diagnostic information\n",
    "    \n",
    "        return normalized_state, reward, done, truncated, info\n",
    "\n",
    "\n",
    "    def _normalize(self, state):\n",
    "        if self.normalize and len(self.state_buffer) > 1:\n",
    "            mean = np.mean(self.state_buffer)\n",
    "            std = np.std(self.state_buffer) + 1e-8\n",
    "            return (state - mean) / std\n",
    "        return state"
   ],
   "outputs": [],
   "execution_count": 22
  },
  {
   "metadata": {
    "ExecuteTime": {
     "end_time": "2024-12-04T14:42:07.495986Z",
     "start_time": "2024-12-04T14:42:07.490992Z"
    }
   },
   "cell_type": "code",
   "source": [
    "class PolicyNetwork(nn.Module):\n",
    "    def __init__(self, state_dim, action_dim, hidden_units, num_layers):\n",
    "        super(PolicyNetwork, self).__init__()\n",
    "        layers = [nn.Linear(state_dim, hidden_units), nn.ReLU()]\n",
    "        for _ in range(num_layers - 1):\n",
    "            layers += [nn.Linear(hidden_units, hidden_units), nn.ReLU()]\n",
    "        layers += [nn.Linear(hidden_units, action_dim), nn.Softmax(dim=-1)]\n",
    "        self.fc = nn.Sequential(*layers)\n",
    "\n",
    "    def forward(self, state):\n",
    "        return self.fc(state)\n",
    "\n",
    "class ValueNetwork(nn.Module):\n",
    "    def __init__(self, state_dim, hidden_units, num_layers):\n",
    "        super(ValueNetwork, self).__init__()\n",
    "        layers = [nn.Linear(state_dim, hidden_units), nn.ReLU()]\n",
    "        for _ in range(num_layers - 1):\n",
    "            layers += [nn.Linear(hidden_units, hidden_units), nn.ReLU()]\n",
    "        layers.append(nn.Linear(hidden_units, 1))\n",
    "        self.fc = nn.Sequential(*layers)\n",
    "\n",
    "    def forward(self, state):\n",
    "        return self.fc(state)\n"
   ],
   "id": "db5beda1d60fe9e6",
   "outputs": [],
   "execution_count": 23
  },
  {
   "metadata": {
    "ExecuteTime": {
     "end_time": "2024-12-04T14:42:07.520411Z",
     "start_time": "2024-12-04T14:42:07.512104Z"
    }
   },
   "cell_type": "code",
   "source": [
    "class PPOAgent:\n",
    "    def __init__(self, state_dim, action_dim, lr, gamma, eps_clip, batch_size, ppo_epochs, entropy_beta, buffer_size,\n",
    "                 max_steps, hidden_units, num_layers, lambda_gae=0.95):\n",
    "        self.policy = PolicyNetwork(state_dim, action_dim, hidden_units, num_layers)\n",
    "        self.value = ValueNetwork(state_dim, hidden_units, num_layers)\n",
    "        self.optimizer_policy = optim.Adam(self.policy.parameters(), lr=lr)\n",
    "        self.optimizer_value = optim.Adam(self.value.parameters(), lr=lr)\n",
    "        self.gamma = gamma\n",
    "        self.eps_clip = eps_clip\n",
    "        self.batch_size = batch_size\n",
    "        self.ppo_epochs = ppo_epochs\n",
    "        self.entropy_beta = entropy_beta\n",
    "        self.buffer_size = buffer_size\n",
    "        self.max_steps = max_steps\n",
    "        self.lambda_gae = lambda_gae  # For GAE\n",
    "\n",
    "\n",
    "    def compute_advantage(self, rewards, values, dones):\n",
    "        advantages = []\n",
    "        deltas = rewards[:-1] + self.gamma * values[1:] * (1 - dones[1:]) - values[:-1]\n",
    "        advantage = 0\n",
    "        # Loop through in reverse order to accumulate advantages\n",
    "        for delta, done in zip(reversed(deltas), reversed(dones[:-1])):\n",
    "            advantage = delta + self.gamma * self.lambda_gae * advantage * (1 - done)\n",
    "            advantages.insert(0, advantage)\n",
    "\n",
    "        # Handle the last advantage by treating the last state as a terminal state\n",
    "        last_value = 0 if dones[-1] else values[-1]  # Set the last value as 0 if it's a terminal state\n",
    "        advantages.append(last_value)\n",
    "\n",
    "        return np.array(advantages)\n",
    "\n",
    "    def train(self, trajectories):\n",
    "        states, actions, rewards, dones, old_probs = map(np.array, trajectories)\n",
    "        states = torch.tensor(states, dtype=torch.float32)\n",
    "        actions = torch.tensor(actions, dtype=torch.int64)\n",
    "        rewards = torch.tensor(rewards, dtype=torch.float32)\n",
    "        dones = torch.tensor(dones, dtype=torch.float32)\n",
    "        old_probs = torch.tensor(old_probs, dtype=torch.float32)\n",
    "\n",
    "        # Compute values and advantages\n",
    "        values = self.value(states).squeeze()\n",
    "        advantages = self.compute_advantage(rewards.numpy(), values.detach().numpy(), dones.numpy())\n",
    "        advantages = torch.tensor(advantages, dtype=torch.float32)\n",
    "\n",
    "        # Compute returns for value function target\n",
    "        returns = advantages + values.detach()\n",
    "\n",
    "        # Normalize advantages\n",
    "        advantages = (advantages - advantages.mean()) / (advantages.std() + 1e-8)\n",
    "\n",
    "        for _ in range(self.ppo_epochs):\n",
    "            for i in range(0, len(states), self.batch_size):\n",
    "                batch = slice(i, i + self.batch_size)\n",
    "                state_batch = states[batch]\n",
    "                action_batch = actions[batch]\n",
    "                advantage_batch = advantages[batch]\n",
    "                old_prob_batch = old_probs[batch]\n",
    "                return_batch = returns[batch]\n",
    "\n",
    "                # Policy Update\n",
    "                new_probs = self.policy(state_batch).gather(1, action_batch.unsqueeze(1)).squeeze()\n",
    "                ratio = new_probs / old_prob_batch\n",
    "                surr1 = ratio * advantage_batch\n",
    "                surr2 = torch.clamp(ratio, 1 - self.eps_clip, 1 + self.eps_clip) * advantage_batch\n",
    "                policy_loss = -torch.min(surr1, surr2).mean()\n",
    "\n",
    "                entropy_loss = -torch.sum(new_probs * torch.log(new_probs + 1e-10), dim=-1).mean()\n",
    "                policy_loss -= self.entropy_beta * entropy_loss\n",
    "\n",
    "                self.optimizer_policy.zero_grad()\n",
    "                policy_loss.backward()\n",
    "                self.optimizer_policy.step()\n",
    "\n",
    "                # **Value Function Update**\n",
    "                value_preds = self.value(state_batch).squeeze()\n",
    "                value_loss = F.mse_loss(value_preds, return_batch)\n",
    "\n",
    "                self.optimizer_value.zero_grad()\n",
    "                value_loss.backward()\n",
    "                self.optimizer_value.step()"
   ],
   "id": "c43bbea49833ff40",
   "outputs": [],
   "execution_count": 24
  },
  {
   "metadata": {
    "ExecuteTime": {
     "end_time": "2024-12-04T14:42:07.548365Z",
     "start_time": "2024-12-04T14:42:07.538697Z"
    }
   },
   "cell_type": "code",
   "source": [
    "def objective(trial):\n",
    "    # Define the search space for time_horizon\n",
    "    time_horizon = trial.suggest_int(\"time_horizon\", 6, 24, step=2)  # Tune from 6 to 24 in steps of 2\n",
    "\n",
    "    # Other hyperparameters to optimize\n",
    "    lr = trial.suggest_float(\"learning_rate\", 1e-5, 1e-3, log=True)\n",
    "    gamma = trial.suggest_float(\"gamma\", 0.90, 0.99)\n",
    "    eps_clip = trial.suggest_float(\"eps_clip\", 0.1, 0.3)\n",
    "    ppo_epochs = trial.suggest_int(\"ppo_epochs\", 3, 10)\n",
    "    entropy_beta = trial.suggest_float(\"entropy_beta\", 1e-4, 1e-2, log=True)\n",
    "    batch_size = trial.suggest_int(\"batch_size\", 32, 512, step=32)\n",
    "    buffer_size = trial.suggest_int(\"buffer_size\", batch_size * 10, batch_size * 20, step=batch_size)\n",
    "    hidden_units = trial.suggest_int(\"hidden_units\", 32, 512, step=32)\n",
    "    num_layers = trial.suggest_int(\"num_layers\", 1, 3)\n",
    "    normalize = trial.suggest_categorical(\"normalize\", [True, False])\n",
    "\n",
    "    # Initialize environment and PPO agent\n",
    "    env = IbuprofenEnv(normalize=normalize)\n",
    "    agent = PPOAgent(\n",
    "        state_dim=env.observation_space.shape[0],\n",
    "        action_dim=env.action_space.n,\n",
    "        lr=lr,\n",
    "        gamma=gamma,\n",
    "        eps_clip=eps_clip,\n",
    "        batch_size=batch_size,\n",
    "        ppo_epochs=ppo_epochs,\n",
    "        max_steps=env.max_steps,\n",
    "        entropy_beta=entropy_beta,\n",
    "        buffer_size=buffer_size,\n",
    "        hidden_units=hidden_units,\n",
    "        num_layers=num_layers,\n",
    "    )\n",
    "\n",
    "    # Training loop for Optuna\n",
    "    reward_history = []\n",
    "\n",
    "    for episode in range(100):  # Number of episodes per trial\n",
    "        states, actions, rewards, dones, old_probs = [], [], [], [], []\n",
    "        state, _ = env.reset()\n",
    "        total_reward = 0\n",
    "\n",
    "        for t in range(time_horizon):  # Use the sampled `time_horizon`\n",
    "            state_tensor = torch.tensor(state, dtype=torch.float32)\n",
    "            action_probs = agent.policy(state_tensor).detach().numpy()\n",
    "            action = np.random.choice(env.action_space.n, p=action_probs)\n",
    "\n",
    "            new_state, reward, done, truncated, _ = env.step(action)\n",
    "\n",
    "            states.append(state)\n",
    "            actions.append(action)\n",
    "            rewards.append(reward)\n",
    "            dones.append(done or truncated)\n",
    "            old_probs.append(action_probs[action])\n",
    "\n",
    "            state = new_state\n",
    "            total_reward += reward\n",
    "\n",
    "            if done or truncated:\n",
    "                break\n",
    "\n",
    "        # Train PPO with collected data\n",
    "        agent.train((states, actions, rewards, dones, old_probs))\n",
    "        reward_history.append(total_reward)\n",
    "\n",
    "    # Return mean reward over episodes for Optuna to optimize\n",
    "    return np.mean(reward_history)"
   ],
   "id": "e0fb258c48cb062c",
   "outputs": [],
   "execution_count": 25
  },
  {
   "metadata": {
    "ExecuteTime": {
     "end_time": "2024-12-04T14:47:45.371029Z",
     "start_time": "2024-12-04T14:42:07.569099Z"
    }
   },
   "cell_type": "code",
   "source": [
    "# Run the Optuna Optimization\n",
    "env = IbuprofenEnv(normalize=True)\n",
    "state_dim = env.observation_space.shape[0]\n",
    "action_dim = env.action_space.n\n",
    "\n",
    "study = optuna.create_study(direction=\"maximize\")\n",
    "study.optimize(objective, n_trials=100)\n",
    "\n",
    "# Print the Best Hyperparameters\n",
    "print(\"Best Hyperparameters:\")\n",
    "print(study.best_params)\n",
    "\n"
   ],
   "id": "dbb2a29a25f07521",
   "outputs": [
    {
     "name": "stderr",
     "output_type": "stream",
     "text": [
      "[I 2024-12-04 14:42:07,573] A new study created in memory with name: no-name-f55beca2-7e0f-41d0-b027-c438a21af8ce\n",
      "[I 2024-12-04 14:42:10,788] Trial 0 finished with value: 87.36030682535524 and parameters: {'time_horizon': 24, 'learning_rate': 1.622759604375939e-05, 'gamma': 0.9216320518659767, 'eps_clip': 0.2621565326081064, 'ppo_epochs': 7, 'entropy_beta': 0.00036648025246182567, 'batch_size': 352, 'buffer_size': 6336, 'hidden_units': 352, 'num_layers': 2, 'normalize': True}. Best is trial 0 with value: 87.36030682535524.\n",
      "[I 2024-12-04 14:42:12,066] Trial 1 finished with value: -102.85274050044714 and parameters: {'time_horizon': 16, 'learning_rate': 0.00014816400282813803, 'gamma': 0.9848688407715145, 'eps_clip': 0.20168700817484864, 'ppo_epochs': 7, 'entropy_beta': 0.00023416817566439802, 'batch_size': 128, 'buffer_size': 1920, 'hidden_units': 32, 'num_layers': 1, 'normalize': True}. Best is trial 0 with value: 87.36030682535524.\n",
      "[I 2024-12-04 14:42:14,844] Trial 2 finished with value: 8.751790310241326 and parameters: {'time_horizon': 6, 'learning_rate': 0.00010533358588278631, 'gamma': 0.9714568839537797, 'eps_clip': 0.11170706696387177, 'ppo_epochs': 9, 'entropy_beta': 0.0005069740453919798, 'batch_size': 480, 'buffer_size': 8640, 'hidden_units': 480, 'num_layers': 2, 'normalize': False}. Best is trial 0 with value: 87.36030682535524.\n",
      "[I 2024-12-04 14:42:17,191] Trial 3 finished with value: 40.17434102473495 and parameters: {'time_horizon': 6, 'learning_rate': 4.4575349110638455e-05, 'gamma': 0.9785235905741223, 'eps_clip': 0.2227347625649731, 'ppo_epochs': 7, 'entropy_beta': 0.00042457848998920606, 'batch_size': 416, 'buffer_size': 4576, 'hidden_units': 480, 'num_layers': 2, 'normalize': True}. Best is trial 0 with value: 87.36030682535524.\n",
      "[I 2024-12-04 14:42:19,226] Trial 4 finished with value: 21.840104398194022 and parameters: {'time_horizon': 8, 'learning_rate': 1.0538126672467876e-05, 'gamma': 0.9264077101247269, 'eps_clip': 0.10193468821874525, 'ppo_epochs': 9, 'entropy_beta': 0.00010453570171178791, 'batch_size': 160, 'buffer_size': 2400, 'hidden_units': 192, 'num_layers': 2, 'normalize': True}. Best is trial 0 with value: 87.36030682535524.\n",
      "[I 2024-12-04 14:42:22,820] Trial 5 finished with value: 46.69576097763982 and parameters: {'time_horizon': 14, 'learning_rate': 3.312808624650721e-05, 'gamma': 0.9676106455645772, 'eps_clip': 0.20063603387348725, 'ppo_epochs': 9, 'entropy_beta': 0.0035086727042803116, 'batch_size': 224, 'buffer_size': 2688, 'hidden_units': 352, 'num_layers': 2, 'normalize': False}. Best is trial 0 with value: 87.36030682535524.\n",
      "[I 2024-12-04 14:42:25,312] Trial 6 finished with value: -53.24210170302457 and parameters: {'time_horizon': 18, 'learning_rate': 1.8630604355069783e-05, 'gamma': 0.9081783340586695, 'eps_clip': 0.13289605465053364, 'ppo_epochs': 9, 'entropy_beta': 0.0007336723976347015, 'batch_size': 416, 'buffer_size': 5408, 'hidden_units': 32, 'num_layers': 3, 'normalize': False}. Best is trial 0 with value: 87.36030682535524.\n",
      "[I 2024-12-04 14:42:26,810] Trial 7 finished with value: 121.77577873094829 and parameters: {'time_horizon': 16, 'learning_rate': 0.000704096062060243, 'gamma': 0.9369673684658408, 'eps_clip': 0.25364901188607714, 'ppo_epochs': 9, 'entropy_beta': 0.0002930254554611774, 'batch_size': 416, 'buffer_size': 6240, 'hidden_units': 416, 'num_layers': 1, 'normalize': True}. Best is trial 7 with value: 121.77577873094829.\n",
      "[I 2024-12-04 14:42:31,008] Trial 8 finished with value: -18.968976656102676 and parameters: {'time_horizon': 14, 'learning_rate': 8.219588578978639e-05, 'gamma': 0.9829283446364138, 'eps_clip': 0.29881288564254865, 'ppo_epochs': 6, 'entropy_beta': 0.0005383239202782397, 'batch_size': 256, 'buffer_size': 3584, 'hidden_units': 512, 'num_layers': 3, 'normalize': False}. Best is trial 7 with value: 121.77577873094829.\n",
      "[I 2024-12-04 14:42:34,715] Trial 9 finished with value: -41.33869181706028 and parameters: {'time_horizon': 8, 'learning_rate': 0.0005167254774211518, 'gamma': 0.9588844059633678, 'eps_clip': 0.11928925399522354, 'ppo_epochs': 9, 'entropy_beta': 0.0020916249556823495, 'batch_size': 32, 'buffer_size': 608, 'hidden_units': 384, 'num_layers': 3, 'normalize': False}. Best is trial 7 with value: 121.77577873094829.\n",
      "[I 2024-12-04 14:42:35,705] Trial 10 finished with value: 147.3467769954118 and parameters: {'time_horizon': 22, 'learning_rate': 0.0008413758409476723, 'gamma': 0.9433019664089579, 'eps_clip': 0.24852317070076832, 'ppo_epochs': 4, 'entropy_beta': 0.008887931122931146, 'batch_size': 512, 'buffer_size': 10240, 'hidden_units': 224, 'num_layers': 1, 'normalize': True}. Best is trial 10 with value: 147.3467769954118.\n",
      "[I 2024-12-04 14:42:36,539] Trial 11 finished with value: 153.79829625273726 and parameters: {'time_horizon': 22, 'learning_rate': 0.0006811174009701275, 'gamma': 0.9474798446997508, 'eps_clip': 0.2544642388028286, 'ppo_epochs': 3, 'entropy_beta': 0.00871569811169888, 'batch_size': 480, 'buffer_size': 9600, 'hidden_units': 224, 'num_layers': 1, 'normalize': True}. Best is trial 11 with value: 153.79829625273726.\n",
      "[I 2024-12-04 14:42:37,349] Trial 12 finished with value: 107.3408236057448 and parameters: {'time_horizon': 24, 'learning_rate': 0.00032057139479041197, 'gamma': 0.9500736796648472, 'eps_clip': 0.2548843219840431, 'ppo_epochs': 3, 'entropy_beta': 0.007964645670728876, 'batch_size': 512, 'buffer_size': 10240, 'hidden_units': 192, 'num_layers': 1, 'normalize': True}. Best is trial 11 with value: 153.79829625273726.\n",
      "[I 2024-12-04 14:42:38,100] Trial 13 finished with value: 95.27744932246071 and parameters: {'time_horizon': 20, 'learning_rate': 0.0009087556166550058, 'gamma': 0.9444328061995801, 'eps_clip': 0.1564560264769152, 'ppo_epochs': 3, 'entropy_beta': 0.009635814465787214, 'batch_size': 512, 'buffer_size': 10240, 'hidden_units': 192, 'num_layers': 1, 'normalize': True}. Best is trial 11 with value: 153.79829625273726.\n",
      "[I 2024-12-04 14:42:39,181] Trial 14 finished with value: 162.25936547684682 and parameters: {'time_horizon': 22, 'learning_rate': 0.0002880912891283781, 'gamma': 0.9331626953997424, 'eps_clip': 0.2976201219428021, 'ppo_epochs': 5, 'entropy_beta': 0.003767171934049341, 'batch_size': 320, 'buffer_size': 6400, 'hidden_units': 256, 'num_layers': 1, 'normalize': True}. Best is trial 14 with value: 162.25936547684682.\n",
      "[I 2024-12-04 14:42:40,254] Trial 15 finished with value: 140.26817846751538 and parameters: {'time_horizon': 20, 'learning_rate': 0.0002903296473694194, 'gamma': 0.9275863559413305, 'eps_clip': 0.2937746114786512, 'ppo_epochs': 5, 'entropy_beta': 0.0033380004536336283, 'batch_size': 320, 'buffer_size': 5120, 'hidden_units': 288, 'num_layers': 1, 'normalize': True}. Best is trial 14 with value: 162.25936547684682.\n",
      "[I 2024-12-04 14:42:41,205] Trial 16 finished with value: 66.43653705979388 and parameters: {'time_horizon': 20, 'learning_rate': 0.00027512680230499945, 'gamma': 0.9005915099382747, 'eps_clip': 0.2786589981732344, 'ppo_epochs': 5, 'entropy_beta': 0.001862556569397091, 'batch_size': 320, 'buffer_size': 6080, 'hidden_units': 128, 'num_layers': 1, 'normalize': True}. Best is trial 14 with value: 162.25936547684682.\n",
      "[I 2024-12-04 14:42:42,187] Trial 17 finished with value: 155.94058833521976 and parameters: {'time_horizon': 22, 'learning_rate': 0.00042482521352241447, 'gamma': 0.9530805481648493, 'eps_clip': 0.229562208523298, 'ppo_epochs': 4, 'entropy_beta': 0.0049424881871582655, 'batch_size': 192, 'buffer_size': 3264, 'hidden_units': 288, 'num_layers': 1, 'normalize': True}. Best is trial 14 with value: 162.25936547684682.\n",
      "[I 2024-12-04 14:42:43,634] Trial 18 finished with value: 72.45100487572276 and parameters: {'time_horizon': 12, 'learning_rate': 0.0001905703463766619, 'gamma': 0.9615487222620628, 'eps_clip': 0.16717012925753344, 'ppo_epochs': 5, 'entropy_beta': 0.004422105834465472, 'batch_size': 192, 'buffer_size': 3264, 'hidden_units': 288, 'num_layers': 2, 'normalize': True}. Best is trial 14 with value: 162.25936547684682.\n",
      "[I 2024-12-04 14:42:44,445] Trial 19 finished with value: 98.39687814263652 and parameters: {'time_horizon': 18, 'learning_rate': 0.0004276926517904002, 'gamma': 0.9167614660425579, 'eps_clip': 0.22399269471384334, 'ppo_epochs': 4, 'entropy_beta': 0.0013557995626624444, 'batch_size': 32, 'buffer_size': 320, 'hidden_units': 128, 'num_layers': 1, 'normalize': True}. Best is trial 14 with value: 162.25936547684682.\n",
      "[I 2024-12-04 14:42:46,275] Trial 20 finished with value: 158.0490907623152 and parameters: {'time_horizon': 22, 'learning_rate': 0.0001865246282347856, 'gamma': 0.9356439238595938, 'eps_clip': 0.23025657055805807, 'ppo_epochs': 6, 'entropy_beta': 0.005599409502264148, 'batch_size': 128, 'buffer_size': 1536, 'hidden_units': 288, 'num_layers': 2, 'normalize': True}. Best is trial 14 with value: 162.25936547684682.\n",
      "[I 2024-12-04 14:42:48,123] Trial 21 finished with value: 153.74614643810023 and parameters: {'time_horizon': 22, 'learning_rate': 0.00017974073751655587, 'gamma': 0.9345447117629829, 'eps_clip': 0.22708710979123184, 'ppo_epochs': 6, 'entropy_beta': 0.0050356259740767855, 'batch_size': 96, 'buffer_size': 1248, 'hidden_units': 320, 'num_layers': 2, 'normalize': True}. Best is trial 14 with value: 162.25936547684682.\n",
      "[I 2024-12-04 14:42:49,276] Trial 22 finished with value: 82.86165020400148 and parameters: {'time_horizon': 24, 'learning_rate': 9.747898631898226e-05, 'gamma': 0.953436999494675, 'eps_clip': 0.17689124918441262, 'ppo_epochs': 4, 'entropy_beta': 0.0023811675632320634, 'batch_size': 96, 'buffer_size': 1344, 'hidden_units': 256, 'num_layers': 1, 'normalize': True}. Best is trial 14 with value: 162.25936547684682.\n",
      "[I 2024-12-04 14:42:51,041] Trial 23 finished with value: 111.67006468173537 and parameters: {'time_horizon': 18, 'learning_rate': 0.00042432435494033316, 'gamma': 0.9357405350610429, 'eps_clip': 0.23550792999548936, 'ppo_epochs': 6, 'entropy_beta': 0.005808757060392749, 'batch_size': 256, 'buffer_size': 4096, 'hidden_units': 128, 'num_layers': 3, 'normalize': True}. Best is trial 14 with value: 162.25936547684682.\n",
      "[I 2024-12-04 14:42:52,088] Trial 24 finished with value: 92.40265308813505 and parameters: {'time_horizon': 22, 'learning_rate': 0.00021323978987498223, 'gamma': 0.9143497909187416, 'eps_clip': 0.2766290624444944, 'ppo_epochs': 5, 'entropy_beta': 0.0013340367669337665, 'batch_size': 192, 'buffer_size': 2880, 'hidden_units': 320, 'num_layers': 1, 'normalize': True}. Best is trial 14 with value: 162.25936547684682.\n",
      "[I 2024-12-04 14:42:54,865] Trial 25 finished with value: 151.8808922966051 and parameters: {'time_horizon': 20, 'learning_rate': 6.123140238140357e-05, 'gamma': 0.9315604811985038, 'eps_clip': 0.19308264477626197, 'ppo_epochs': 8, 'entropy_beta': 0.003023708250851413, 'batch_size': 288, 'buffer_size': 4032, 'hidden_units': 416, 'num_layers': 2, 'normalize': True}. Best is trial 14 with value: 162.25936547684682.\n",
      "[I 2024-12-04 14:42:55,690] Trial 26 finished with value: 110.34396939712391 and parameters: {'time_horizon': 24, 'learning_rate': 0.00013712587729538766, 'gamma': 0.9406655180092293, 'eps_clip': 0.2724969662102918, 'ppo_epochs': 4, 'entropy_beta': 0.00583690848421743, 'batch_size': 128, 'buffer_size': 1664, 'hidden_units': 256, 'num_layers': 1, 'normalize': False}. Best is trial 14 with value: 162.25936547684682.\n",
      "[I 2024-12-04 14:42:58,334] Trial 27 finished with value: 91.49139927583623 and parameters: {'time_horizon': 22, 'learning_rate': 0.000478286871047956, 'gamma': 0.9539058414903941, 'eps_clip': 0.21062922863035566, 'ppo_epochs': 6, 'entropy_beta': 0.004304513113015063, 'batch_size': 192, 'buffer_size': 2496, 'hidden_units': 320, 'num_layers': 3, 'normalize': True}. Best is trial 14 with value: 162.25936547684682.\n",
      "[I 2024-12-04 14:42:59,607] Trial 28 finished with value: 70.22814313571928 and parameters: {'time_horizon': 12, 'learning_rate': 0.00031663147457259297, 'gamma': 0.9249103314424755, 'eps_clip': 0.23828402368024165, 'ppo_epochs': 5, 'entropy_beta': 0.0014328587075850322, 'batch_size': 352, 'buffer_size': 5632, 'hidden_units': 224, 'num_layers': 2, 'normalize': True}. Best is trial 14 with value: 162.25936547684682.\n",
      "[I 2024-12-04 14:43:03,276] Trial 29 finished with value: 162.62757890297905 and parameters: {'time_horizon': 24, 'learning_rate': 0.00023559830251829771, 'gamma': 0.921134187603695, 'eps_clip': 0.2696136974003886, 'ppo_epochs': 8, 'entropy_beta': 0.006644229138982579, 'batch_size': 64, 'buffer_size': 896, 'hidden_units': 384, 'num_layers': 2, 'normalize': True}. Best is trial 29 with value: 162.62757890297905.\n",
      "[I 2024-12-04 14:43:07,006] Trial 30 finished with value: 213.66944833950282 and parameters: {'time_horizon': 24, 'learning_rate': 0.00023029177442744755, 'gamma': 0.9195770695815897, 'eps_clip': 0.2838379024821174, 'ppo_epochs': 8, 'entropy_beta': 0.0009220104664336011, 'batch_size': 64, 'buffer_size': 896, 'hidden_units': 416, 'num_layers': 2, 'normalize': True}. Best is trial 30 with value: 213.66944833950282.\n",
      "[I 2024-12-04 14:43:09,911] Trial 31 finished with value: 210.58496648086725 and parameters: {'time_horizon': 24, 'learning_rate': 0.00022471086431126802, 'gamma': 0.9188775895942279, 'eps_clip': 0.2832628258053098, 'ppo_epochs': 8, 'entropy_beta': 0.0008396485490288195, 'batch_size': 64, 'buffer_size': 896, 'hidden_units': 384, 'num_layers': 2, 'normalize': True}. Best is trial 30 with value: 213.66944833950282.\n",
      "[I 2024-12-04 14:43:12,873] Trial 32 finished with value: 189.03451252198818 and parameters: {'time_horizon': 24, 'learning_rate': 0.0002454354817846253, 'gamma': 0.9185315716814031, 'eps_clip': 0.2870272991489974, 'ppo_epochs': 8, 'entropy_beta': 0.0008868331691390237, 'batch_size': 64, 'buffer_size': 896, 'hidden_units': 416, 'num_layers': 2, 'normalize': True}. Best is trial 30 with value: 213.66944833950282.\n",
      "[I 2024-12-04 14:43:16,820] Trial 33 finished with value: 194.26981873565325 and parameters: {'time_horizon': 24, 'learning_rate': 0.00012742643123621756, 'gamma': 0.9179601391620409, 'eps_clip': 0.28652355786514416, 'ppo_epochs': 8, 'entropy_beta': 0.0009790732396117027, 'batch_size': 64, 'buffer_size': 896, 'hidden_units': 448, 'num_layers': 2, 'normalize': True}. Best is trial 30 with value: 213.66944833950282.\n",
      "[I 2024-12-04 14:43:21,377] Trial 34 finished with value: 215.91436583889327 and parameters: {'time_horizon': 24, 'learning_rate': 0.0001363034707772266, 'gamma': 0.9114633017429041, 'eps_clip': 0.28618140591243085, 'ppo_epochs': 10, 'entropy_beta': 0.0008542434278791595, 'batch_size': 64, 'buffer_size': 896, 'hidden_units': 448, 'num_layers': 2, 'normalize': True}. Best is trial 34 with value: 215.91436583889327.\n",
      "[I 2024-12-04 14:43:27,495] Trial 35 finished with value: 188.24226371804932 and parameters: {'time_horizon': 24, 'learning_rate': 7.506733085562244e-05, 'gamma': 0.9107334742583951, 'eps_clip': 0.28491819331127144, 'ppo_epochs': 10, 'entropy_beta': 0.0006437575948336146, 'batch_size': 64, 'buffer_size': 832, 'hidden_units': 480, 'num_layers': 2, 'normalize': True}. Best is trial 34 with value: 215.91436583889327.\n",
      "[I 2024-12-04 14:43:32,493] Trial 36 finished with value: -143.68625116327587 and parameters: {'time_horizon': 24, 'learning_rate': 0.00013252288144634142, 'gamma': 0.9030800109152809, 'eps_clip': 0.26670495474695805, 'ppo_epochs': 10, 'entropy_beta': 0.0009495731584865672, 'batch_size': 96, 'buffer_size': 1056, 'hidden_units': 448, 'num_layers': 2, 'normalize': False}. Best is trial 34 with value: 215.91436583889327.\n",
      "[I 2024-12-04 14:43:36,344] Trial 37 finished with value: 139.8899913389207 and parameters: {'time_horizon': 20, 'learning_rate': 0.00012161747655318922, 'gamma': 0.9083621726489626, 'eps_clip': 0.2853227344744003, 'ppo_epochs': 7, 'entropy_beta': 0.0003839678126151175, 'batch_size': 32, 'buffer_size': 320, 'hidden_units': 512, 'num_layers': 2, 'normalize': True}. Best is trial 34 with value: 215.91436583889327.\n",
      "[I 2024-12-04 14:43:40,082] Trial 38 finished with value: 193.66813573286453 and parameters: {'time_horizon': 24, 'learning_rate': 5.3118844284486584e-05, 'gamma': 0.9135523808214564, 'eps_clip': 0.2652440386712013, 'ppo_epochs': 8, 'entropy_beta': 0.00023981046737806393, 'batch_size': 160, 'buffer_size': 1920, 'hidden_units': 448, 'num_layers': 2, 'normalize': True}. Best is trial 34 with value: 215.91436583889327.\n",
      "[I 2024-12-04 14:43:44,219] Trial 39 finished with value: -213.4470651920534 and parameters: {'time_horizon': 18, 'learning_rate': 0.00015793693604031518, 'gamma': 0.9061491790902464, 'eps_clip': 0.24243221541380153, 'ppo_epochs': 10, 'entropy_beta': 0.00014229544787604841, 'batch_size': 64, 'buffer_size': 768, 'hidden_units': 448, 'num_layers': 2, 'normalize': False}. Best is trial 34 with value: 215.91436583889327.\n",
      "[I 2024-12-04 14:43:47,819] Trial 40 finished with value: 109.01326660307846 and parameters: {'time_horizon': 24, 'learning_rate': 2.5921696819376338e-05, 'gamma': 0.9234252604785945, 'eps_clip': 0.2625279456282675, 'ppo_epochs': 7, 'entropy_beta': 0.0007096981163895349, 'batch_size': 160, 'buffer_size': 1760, 'hidden_units': 384, 'num_layers': 2, 'normalize': True}. Best is trial 34 with value: 215.91436583889327.\n",
      "[I 2024-12-04 14:43:54,487] Trial 41 finished with value: 179.78870313560515 and parameters: {'time_horizon': 24, 'learning_rate': 4.6293498108061164e-05, 'gamma': 0.9130792361641362, 'eps_clip': 0.2907882616618105, 'ppo_epochs': 8, 'entropy_beta': 0.00022270240386407366, 'batch_size': 96, 'buffer_size': 1056, 'hidden_units': 448, 'num_layers': 2, 'normalize': True}. Best is trial 34 with value: 215.91436583889327.\n",
      "[I 2024-12-04 14:44:00,121] Trial 42 finished with value: 163.44705199479674 and parameters: {'time_horizon': 24, 'learning_rate': 4.7847222386912336e-05, 'gamma': 0.9197594615273791, 'eps_clip': 0.28153195901236533, 'ppo_epochs': 8, 'entropy_beta': 0.0005230339156673424, 'batch_size': 128, 'buffer_size': 2048, 'hidden_units': 480, 'num_layers': 2, 'normalize': True}. Best is trial 34 with value: 215.91436583889327.\n",
      "[I 2024-12-04 14:44:03,730] Trial 43 finished with value: 187.6553303100744 and parameters: {'time_horizon': 22, 'learning_rate': 9.144340032017813e-05, 'gamma': 0.9279188256990367, 'eps_clip': 0.29957926680537106, 'ppo_epochs': 9, 'entropy_beta': 0.0003210253402201961, 'batch_size': 32, 'buffer_size': 384, 'hidden_units': 352, 'num_layers': 2, 'normalize': True}. Best is trial 34 with value: 215.91436583889327.\n",
      "[I 2024-12-04 14:44:12,029] Trial 44 finished with value: 185.42430731277676 and parameters: {'time_horizon': 24, 'learning_rate': 6.381511371376876e-05, 'gamma': 0.9141113816832445, 'eps_clip': 0.26440238409857963, 'ppo_epochs': 9, 'entropy_beta': 0.00111264572262166, 'batch_size': 64, 'buffer_size': 960, 'hidden_units': 512, 'num_layers': 2, 'normalize': True}. Best is trial 34 with value: 215.91436583889327.\n",
      "[I 2024-12-04 14:44:18,552] Trial 45 finished with value: 203.32495526866794 and parameters: {'time_horizon': 22, 'learning_rate': 0.00011213820749267647, 'gamma': 0.9061202896699805, 'eps_clip': 0.25601672729453295, 'ppo_epochs': 8, 'entropy_beta': 0.0004359908738288143, 'batch_size': 160, 'buffer_size': 2080, 'hidden_units': 416, 'num_layers': 3, 'normalize': False}. Best is trial 34 with value: 215.91436583889327.\n",
      "[I 2024-12-04 14:44:24,115] Trial 46 finished with value: 17.95361464424419 and parameters: {'time_horizon': 22, 'learning_rate': 0.00014985994447232643, 'gamma': 0.9048678980306128, 'eps_clip': 0.2510579093397655, 'ppo_epochs': 7, 'entropy_beta': 0.0004390836314781012, 'batch_size': 128, 'buffer_size': 2048, 'hidden_units': 416, 'num_layers': 3, 'normalize': False}. Best is trial 34 with value: 215.91436583889327.\n",
      "[I 2024-12-04 14:44:29,833] Trial 47 finished with value: 86.67306217141649 and parameters: {'time_horizon': 16, 'learning_rate': 0.00012341210882015332, 'gamma': 0.9090104585064845, 'eps_clip': 0.2760391720601615, 'ppo_epochs': 9, 'entropy_beta': 0.0008142792427990948, 'batch_size': 160, 'buffer_size': 2240, 'hidden_units': 384, 'num_layers': 3, 'normalize': False}. Best is trial 34 with value: 215.91436583889327.\n",
      "[I 2024-12-04 14:44:34,108] Trial 48 finished with value: -20.3385791833718 and parameters: {'time_horizon': 8, 'learning_rate': 0.00010880900651795921, 'gamma': 0.9001487242573165, 'eps_clip': 0.21494087735263329, 'ppo_epochs': 7, 'entropy_beta': 0.0005852029043935868, 'batch_size': 32, 'buffer_size': 480, 'hidden_units': 416, 'num_layers': 3, 'normalize': False}. Best is trial 34 with value: 215.91436583889327.\n",
      "[I 2024-12-04 14:44:37,809] Trial 49 finished with value: 176.31072474797483 and parameters: {'time_horizon': 20, 'learning_rate': 0.00016732554305152916, 'gamma': 0.9288280333763766, 'eps_clip': 0.25836410068210613, 'ppo_epochs': 10, 'entropy_beta': 0.0011117780640569962, 'batch_size': 96, 'buffer_size': 1152, 'hidden_units': 352, 'num_layers': 2, 'normalize': False}. Best is trial 34 with value: 215.91436583889327.\n",
      "[I 2024-12-04 14:44:41,673] Trial 50 finished with value: -131.0827826975615 and parameters: {'time_horizon': 22, 'learning_rate': 3.5564880022498416e-05, 'gamma': 0.9766857722698693, 'eps_clip': 0.2914472258183283, 'ppo_epochs': 8, 'entropy_beta': 0.0004460870789919909, 'batch_size': 224, 'buffer_size': 2912, 'hidden_units': 480, 'num_layers': 2, 'normalize': False}. Best is trial 34 with value: 215.91436583889327.\n",
      "[I 2024-12-04 14:44:45,284] Trial 51 finished with value: 196.68118119755502 and parameters: {'time_horizon': 24, 'learning_rate': 6.107820888393192e-05, 'gamma': 0.9160261489469608, 'eps_clip': 0.2463051972789475, 'ppo_epochs': 8, 'entropy_beta': 0.00023615206024646754, 'batch_size': 64, 'buffer_size': 896, 'hidden_units': 448, 'num_layers': 2, 'normalize': True}. Best is trial 34 with value: 215.91436583889327.\n",
      "[I 2024-12-04 14:44:49,907] Trial 52 finished with value: 189.0857071835975 and parameters: {'time_horizon': 24, 'learning_rate': 7.656385028839779e-05, 'gamma': 0.9170302759372799, 'eps_clip': 0.2487962544383663, 'ppo_epochs': 8, 'entropy_beta': 0.00020692586693755278, 'batch_size': 64, 'buffer_size': 896, 'hidden_units': 448, 'num_layers': 2, 'normalize': True}. Best is trial 34 with value: 215.91436583889327.\n",
      "[I 2024-12-04 14:44:54,154] Trial 53 finished with value: 182.45468420712572 and parameters: {'time_horizon': 22, 'learning_rate': 0.0001080655224369022, 'gamma': 0.9225644952094919, 'eps_clip': 0.2738647316554319, 'ppo_epochs': 9, 'entropy_beta': 0.0001722579177492889, 'batch_size': 32, 'buffer_size': 480, 'hidden_units': 480, 'num_layers': 2, 'normalize': True}. Best is trial 34 with value: 215.91436583889327.\n",
      "[I 2024-12-04 14:44:57,025] Trial 54 finished with value: -116.68485349606088 and parameters: {'time_horizon': 24, 'learning_rate': 0.0003592951084185939, 'gamma': 0.9111162348927889, 'eps_clip': 0.27933838526902033, 'ppo_epochs': 7, 'entropy_beta': 0.0016946781065022936, 'batch_size': 96, 'buffer_size': 1056, 'hidden_units': 384, 'num_layers': 2, 'normalize': False}. Best is trial 34 with value: 215.91436583889327.\n",
      "[I 2024-12-04 14:45:00,378] Trial 55 finished with value: 42.287371651309314 and parameters: {'time_horizon': 10, 'learning_rate': 1.384089668285314e-05, 'gamma': 0.905822661030301, 'eps_clip': 0.24390877407213957, 'ppo_epochs': 9, 'entropy_beta': 0.00027603460560350173, 'batch_size': 128, 'buffer_size': 1408, 'hidden_units': 416, 'num_layers': 2, 'normalize': True}. Best is trial 34 with value: 215.91436583889327.\n",
      "[I 2024-12-04 14:45:04,364] Trial 56 finished with value: 203.1757588561633 and parameters: {'time_horizon': 22, 'learning_rate': 0.0002191739472963704, 'gamma': 0.9162959857072646, 'eps_clip': 0.2588645864882135, 'ppo_epochs': 8, 'entropy_beta': 0.0007742790311919091, 'batch_size': 64, 'buffer_size': 832, 'hidden_units': 512, 'num_layers': 2, 'normalize': True}. Best is trial 34 with value: 215.91436583889327.\n",
      "[I 2024-12-04 14:45:10,571] Trial 57 finished with value: 182.36680053734693 and parameters: {'time_horizon': 20, 'learning_rate': 0.00020928419993597542, 'gamma': 0.9159943462231019, 'eps_clip': 0.2572105913006692, 'ppo_epochs': 7, 'entropy_beta': 0.0007515273829091636, 'batch_size': 32, 'buffer_size': 512, 'hidden_units': 512, 'num_layers': 3, 'normalize': True}. Best is trial 34 with value: 215.91436583889327.\n",
      "[I 2024-12-04 14:45:15,709] Trial 58 finished with value: 195.96901848348847 and parameters: {'time_horizon': 22, 'learning_rate': 0.0006566742380284691, 'gamma': 0.9027870099781192, 'eps_clip': 0.2580475036120205, 'ppo_epochs': 9, 'entropy_beta': 0.0005803888646445561, 'batch_size': 96, 'buffer_size': 1056, 'hidden_units': 512, 'num_layers': 2, 'normalize': True}. Best is trial 34 with value: 215.91436583889327.\n",
      "[I 2024-12-04 14:45:18,870] Trial 59 finished with value: 122.19192564111385 and parameters: {'time_horizon': 22, 'learning_rate': 3.536092174230429e-05, 'gamma': 0.9105528202491614, 'eps_clip': 0.2932453215051089, 'ppo_epochs': 8, 'entropy_beta': 0.0003568993099798594, 'batch_size': 448, 'buffer_size': 4928, 'hidden_units': 352, 'num_layers': 2, 'normalize': False}. Best is trial 34 with value: 215.91436583889327.\n",
      "[I 2024-12-04 14:45:26,307] Trial 60 finished with value: 44.1980088866786 and parameters: {'time_horizon': 20, 'learning_rate': 0.00023430717996447893, 'gamma': 0.9403807354035078, 'eps_clip': 0.271146360348332, 'ppo_epochs': 10, 'entropy_beta': 0.0011477281705734386, 'batch_size': 64, 'buffer_size': 832, 'hidden_units': 480, 'num_layers': 3, 'normalize': True}. Best is trial 34 with value: 215.91436583889327.\n",
      "[I 2024-12-04 14:45:30,933] Trial 61 finished with value: 77.35846037589795 and parameters: {'time_horizon': 22, 'learning_rate': 0.0005916627008497445, 'gamma': 0.9030545341936419, 'eps_clip': 0.2576752102705734, 'ppo_epochs': 9, 'entropy_beta': 0.0006112334851686049, 'batch_size': 96, 'buffer_size': 1056, 'hidden_units': 512, 'num_layers': 2, 'normalize': True}. Best is trial 34 with value: 215.91436583889327.\n",
      "[I 2024-12-04 14:45:34,353] Trial 62 finished with value: -8.099382969157494 and parameters: {'time_horizon': 6, 'learning_rate': 0.0006712699773001405, 'gamma': 0.9066891534885192, 'eps_clip': 0.2448216235205675, 'ppo_epochs': 8, 'entropy_beta': 0.0005141459823010083, 'batch_size': 96, 'buffer_size': 1056, 'hidden_units': 480, 'num_layers': 2, 'normalize': True}. Best is trial 34 with value: 215.91436583889327.\n",
      "[I 2024-12-04 14:45:38,817] Trial 63 finished with value: 139.01926845988544 and parameters: {'time_horizon': 22, 'learning_rate': 0.0003688621180176726, 'gamma': 0.9213672660167357, 'eps_clip': 0.2183390279348424, 'ppo_epochs': 9, 'entropy_beta': 0.0007017771018301166, 'batch_size': 128, 'buffer_size': 1408, 'hidden_units': 512, 'num_layers': 2, 'normalize': True}. Best is trial 34 with value: 215.91436583889327.\n",
      "[I 2024-12-04 14:45:43,369] Trial 64 finished with value: 124.17103427596263 and parameters: {'time_horizon': 18, 'learning_rate': 0.0008558069835134, 'gamma': 0.9031753476323329, 'eps_clip': 0.25373861332374975, 'ppo_epochs': 10, 'entropy_beta': 0.0008100274064166639, 'batch_size': 32, 'buffer_size': 544, 'hidden_units': 448, 'num_layers': 2, 'normalize': True}. Best is trial 34 with value: 215.91436583889327.\n",
      "[I 2024-12-04 14:45:47,885] Trial 65 finished with value: 177.62967577788788 and parameters: {'time_horizon': 22, 'learning_rate': 0.00027102944627772967, 'gamma': 0.9114248672780824, 'eps_clip': 0.14221910131707605, 'ppo_epochs': 9, 'entropy_beta': 0.00010289019055454146, 'batch_size': 64, 'buffer_size': 832, 'hidden_units': 416, 'num_layers': 2, 'normalize': True}. Best is trial 34 with value: 215.91436583889327.\n",
      "[I 2024-12-04 14:45:53,692] Trial 66 finished with value: 170.86253191243057 and parameters: {'time_horizon': 24, 'learning_rate': 5.8532532212637094e-05, 'gamma': 0.9253134853980812, 'eps_clip': 0.2057490277629156, 'ppo_epochs': 8, 'entropy_beta': 0.00044001917274524567, 'batch_size': 96, 'buffer_size': 1152, 'hidden_units': 512, 'num_layers': 2, 'normalize': True}. Best is trial 34 with value: 215.91436583889327.\n",
      "[I 2024-12-04 14:45:57,646] Trial 67 finished with value: 83.98791292889358 and parameters: {'time_horizon': 14, 'learning_rate': 0.00018699642537504328, 'gamma': 0.915644843991897, 'eps_clip': 0.19174933914289458, 'ppo_epochs': 9, 'entropy_beta': 0.00157425079998243, 'batch_size': 160, 'buffer_size': 1760, 'hidden_units': 480, 'num_layers': 2, 'normalize': True}. Best is trial 34 with value: 215.91436583889327.\n",
      "[I 2024-12-04 14:45:59,462] Trial 68 finished with value: 10.765865817749077 and parameters: {'time_horizon': 20, 'learning_rate': 8.176834556727901e-05, 'gamma': 0.9080023529165009, 'eps_clip': 0.23808989090833682, 'ppo_epochs': 8, 'entropy_beta': 0.001183637252275471, 'batch_size': 128, 'buffer_size': 1408, 'hidden_units': 64, 'num_layers': 2, 'normalize': True}. Best is trial 34 with value: 215.91436583889327.\n",
      "[I 2024-12-04 14:46:03,507] Trial 69 finished with value: 146.49651376027694 and parameters: {'time_horizon': 22, 'learning_rate': 0.000992104551097843, 'gamma': 0.9298203693309209, 'eps_clip': 0.2688106217151848, 'ppo_epochs': 10, 'entropy_beta': 0.0005794869704652888, 'batch_size': 64, 'buffer_size': 768, 'hidden_units': 384, 'num_layers': 2, 'normalize': True}. Best is trial 34 with value: 215.91436583889327.\n",
      "[I 2024-12-04 14:46:07,918] Trial 70 finished with value: -279.8063427809811 and parameters: {'time_horizon': 24, 'learning_rate': 9.167071706562143e-05, 'gamma': 0.9189170177759215, 'eps_clip': 0.23375362096816657, 'ppo_epochs': 9, 'entropy_beta': 0.0001310054668411972, 'batch_size': 32, 'buffer_size': 448, 'hidden_units': 416, 'num_layers': 2, 'normalize': False}. Best is trial 34 with value: 215.91436583889327.\n",
      "[I 2024-12-04 14:46:12,670] Trial 71 finished with value: 214.15959201701378 and parameters: {'time_horizon': 24, 'learning_rate': 0.00014924021343951468, 'gamma': 0.9175468383722615, 'eps_clip': 0.2826136757673513, 'ppo_epochs': 8, 'entropy_beta': 0.0008253396319451279, 'batch_size': 64, 'buffer_size': 960, 'hidden_units': 448, 'num_layers': 2, 'normalize': True}. Best is trial 34 with value: 215.91436583889327.\n",
      "[I 2024-12-04 14:46:17,267] Trial 72 finished with value: 169.8278399746743 and parameters: {'time_horizon': 24, 'learning_rate': 0.00016519446733588125, 'gamma': 0.9121941855959278, 'eps_clip': 0.28051051429815305, 'ppo_epochs': 8, 'entropy_beta': 0.0008700057748812777, 'batch_size': 64, 'buffer_size': 960, 'hidden_units': 448, 'num_layers': 2, 'normalize': True}. Best is trial 34 with value: 215.91436583889327.\n",
      "[I 2024-12-04 14:46:21,988] Trial 73 finished with value: 184.13429962239627 and parameters: {'time_horizon': 24, 'learning_rate': 0.00021088913690324543, 'gamma': 0.9022789982851067, 'eps_clip': 0.2998750937994792, 'ppo_epochs': 8, 'entropy_beta': 0.0009906517686408339, 'batch_size': 96, 'buffer_size': 1152, 'hidden_units': 448, 'num_layers': 2, 'normalize': True}. Best is trial 34 with value: 215.91436583889327.\n",
      "[I 2024-12-04 14:46:26,959] Trial 74 finished with value: 156.79753602237122 and parameters: {'time_horizon': 22, 'learning_rate': 0.00013775273492160222, 'gamma': 0.9092013025309975, 'eps_clip': 0.26214672580400633, 'ppo_epochs': 7, 'entropy_beta': 0.0006704310101302089, 'batch_size': 32, 'buffer_size': 352, 'hidden_units': 480, 'num_layers': 2, 'normalize': True}. Best is trial 34 with value: 215.91436583889327.\n",
      "[I 2024-12-04 14:46:32,661] Trial 75 finished with value: 184.07251225177103 and parameters: {'time_horizon': 24, 'learning_rate': 6.812577562125422e-05, 'gamma': 0.9241834515731364, 'eps_clip': 0.28374669398408386, 'ppo_epochs': 8, 'entropy_beta': 0.0013082721073282757, 'batch_size': 64, 'buffer_size': 960, 'hidden_units': 416, 'num_layers': 2, 'normalize': True}. Best is trial 34 with value: 215.91436583889327.\n",
      "[I 2024-12-04 14:46:36,719] Trial 76 finished with value: 163.7344731576364 and parameters: {'time_horizon': 22, 'learning_rate': 0.0001090455299683991, 'gamma': 0.9201991826160792, 'eps_clip': 0.2730598961359885, 'ppo_epochs': 8, 'entropy_beta': 0.00036565323038493055, 'batch_size': 224, 'buffer_size': 2688, 'hidden_units': 384, 'num_layers': 2, 'normalize': True}. Best is trial 34 with value: 215.91436583889327.\n",
      "[I 2024-12-04 14:46:40,328] Trial 77 finished with value: 169.11928827439718 and parameters: {'time_horizon': 24, 'learning_rate': 0.0003421977066828809, 'gamma': 0.9162172174782759, 'eps_clip': 0.10380566634778517, 'ppo_epochs': 9, 'entropy_beta': 0.0007497673592802152, 'batch_size': 96, 'buffer_size': 1536, 'hidden_units': 448, 'num_layers': 2, 'normalize': True}. Best is trial 34 with value: 215.91436583889327.\n",
      "[I 2024-12-04 14:46:45,546] Trial 78 finished with value: 205.02232326420446 and parameters: {'time_horizon': 24, 'learning_rate': 0.00026126270500784546, 'gamma': 0.9861353534869114, 'eps_clip': 0.2874865801514018, 'ppo_epochs': 7, 'entropy_beta': 0.0004941755666846146, 'batch_size': 384, 'buffer_size': 6912, 'hidden_units': 512, 'num_layers': 2, 'normalize': True}. Best is trial 34 with value: 215.91436583889327.\n",
      "[I 2024-12-04 14:46:48,161] Trial 79 finished with value: 192.93924292046955 and parameters: {'time_horizon': 24, 'learning_rate': 0.00026202115123174287, 'gamma': 0.9711834740396064, 'eps_clip': 0.2885449734240778, 'ppo_epochs': 7, 'entropy_beta': 0.0004737050309611422, 'batch_size': 416, 'buffer_size': 7072, 'hidden_units': 320, 'num_layers': 2, 'normalize': True}. Best is trial 34 with value: 215.91436583889327.\n",
      "[I 2024-12-04 14:46:50,786] Trial 80 finished with value: 172.0005587467459 and parameters: {'time_horizon': 24, 'learning_rate': 0.00029272984385977224, 'gamma': 0.9864336723588681, 'eps_clip': 0.29498272568977724, 'ppo_epochs': 6, 'entropy_beta': 0.0002894528817406034, 'batch_size': 448, 'buffer_size': 7168, 'hidden_units': 416, 'num_layers': 2, 'normalize': True}. Best is trial 34 with value: 215.91436583889327.\n",
      "[I 2024-12-04 14:46:54,148] Trial 81 finished with value: 172.6362750585583 and parameters: {'time_horizon': 22, 'learning_rate': 0.00019733247218369765, 'gamma': 0.9138595865021027, 'eps_clip': 0.27762816170402976, 'ppo_epochs': 8, 'entropy_beta': 0.0005589113769214959, 'batch_size': 352, 'buffer_size': 4576, 'hidden_units': 512, 'num_layers': 2, 'normalize': True}. Best is trial 34 with value: 215.91436583889327.\n",
      "[I 2024-12-04 14:46:57,461] Trial 82 finished with value: 190.9625404567279 and parameters: {'time_horizon': 24, 'learning_rate': 0.00014858136896818178, 'gamma': 0.9630549128722935, 'eps_clip': 0.2602661168681621, 'ppo_epochs': 7, 'entropy_beta': 0.0008338196295273025, 'batch_size': 288, 'buffer_size': 3744, 'hidden_units': 480, 'num_layers': 2, 'normalize': True}. Best is trial 34 with value: 215.91436583889327.\n",
      "[I 2024-12-04 14:47:01,472] Trial 83 finished with value: 216.42247113609213 and parameters: {'time_horizon': 24, 'learning_rate': 0.00016621773623729422, 'gamma': 0.9321244133342695, 'eps_clip': 0.26683812716240024, 'ppo_epochs': 8, 'entropy_beta': 0.0009284932679964014, 'batch_size': 384, 'buffer_size': 6912, 'hidden_units': 512, 'num_layers': 2, 'normalize': True}. Best is trial 83 with value: 216.42247113609213.\n",
      "[I 2024-12-04 14:47:04,931] Trial 84 finished with value: 164.43519439144634 and parameters: {'time_horizon': 24, 'learning_rate': 0.00023438368863267354, 'gamma': 0.9476351332205241, 'eps_clip': 0.2672665711731121, 'ppo_epochs': 8, 'entropy_beta': 0.001035853543668651, 'batch_size': 384, 'buffer_size': 6912, 'hidden_units': 448, 'num_layers': 2, 'normalize': True}. Best is trial 83 with value: 216.42247113609213.\n",
      "[I 2024-12-04 14:47:08,659] Trial 85 finished with value: 191.30301958276016 and parameters: {'time_horizon': 24, 'learning_rate': 0.00017684049719910187, 'gamma': 0.9266733798241994, 'eps_clip': 0.28889140197913316, 'ppo_epochs': 7, 'entropy_beta': 0.0020526855837556352, 'batch_size': 384, 'buffer_size': 6528, 'hidden_units': 512, 'num_layers': 2, 'normalize': True}. Best is trial 83 with value: 216.42247113609213.\n",
      "[I 2024-12-04 14:47:11,699] Trial 86 finished with value: 235.6135330998819 and parameters: {'time_horizon': 24, 'learning_rate': 0.00011751380855489773, 'gamma': 0.921853687272942, 'eps_clip': 0.2827910599354611, 'ppo_epochs': 8, 'entropy_beta': 0.0009507031918697498, 'batch_size': 320, 'buffer_size': 5440, 'hidden_units': 480, 'num_layers': 2, 'normalize': False}. Best is trial 86 with value: 235.6135330998819.\n",
      "[I 2024-12-04 14:47:14,375] Trial 87 finished with value: -181.73704808650177 and parameters: {'time_horizon': 24, 'learning_rate': 0.00011635987184368164, 'gamma': 0.9316476151288089, 'eps_clip': 0.28282549820555425, 'ppo_epochs': 7, 'entropy_beta': 0.0013138491332050925, 'batch_size': 320, 'buffer_size': 5440, 'hidden_units': 480, 'num_layers': 2, 'normalize': False}. Best is trial 86 with value: 235.6135330998819.\n",
      "[I 2024-12-04 14:47:17,492] Trial 88 finished with value: -636.6920746472592 and parameters: {'time_horizon': 24, 'learning_rate': 0.0001431172853955967, 'gamma': 0.9782004123695671, 'eps_clip': 0.2961938112361645, 'ppo_epochs': 8, 'entropy_beta': 0.0009283977082590073, 'batch_size': 384, 'buffer_size': 7296, 'hidden_units': 480, 'num_layers': 2, 'normalize': False}. Best is trial 86 with value: 235.6135330998819.\n",
      "[I 2024-12-04 14:47:20,134] Trial 89 finished with value: 203.52584294263644 and parameters: {'time_horizon': 22, 'learning_rate': 9.788964713723502e-05, 'gamma': 0.9223361715277675, 'eps_clip': 0.2757714153424157, 'ppo_epochs': 6, 'entropy_beta': 0.0006406690576389905, 'batch_size': 256, 'buffer_size': 4352, 'hidden_units': 512, 'num_layers': 2, 'normalize': False}. Best is trial 86 with value: 235.6135330998819.\n",
      "[I 2024-12-04 14:47:22,604] Trial 90 finished with value: 62.62722115599665 and parameters: {'time_horizon': 24, 'learning_rate': 9.884399278052114e-05, 'gamma': 0.9381520466137029, 'eps_clip': 0.2764068292357924, 'ppo_epochs': 6, 'entropy_beta': 0.0003973052065108856, 'batch_size': 352, 'buffer_size': 5984, 'hidden_units': 480, 'num_layers': 2, 'normalize': False}. Best is trial 86 with value: 235.6135330998819.\n",
      "[I 2024-12-04 14:47:25,071] Trial 91 finished with value: -326.20961778557137 and parameters: {'time_horizon': 22, 'learning_rate': 0.00015989500577911548, 'gamma': 0.9223221983191068, 'eps_clip': 0.2827064010907131, 'ppo_epochs': 6, 'entropy_beta': 0.0006479607304827532, 'batch_size': 288, 'buffer_size': 3456, 'hidden_units': 512, 'num_layers': 2, 'normalize': False}. Best is trial 86 with value: 235.6135330998819.\n",
      "[I 2024-12-04 14:47:27,545] Trial 92 finished with value: 189.14697523183676 and parameters: {'time_horizon': 20, 'learning_rate': 0.00012528138554947137, 'gamma': 0.9822068551713458, 'eps_clip': 0.27039358845889616, 'ppo_epochs': 6, 'entropy_beta': 0.0007593570202045124, 'batch_size': 256, 'buffer_size': 4352, 'hidden_units': 512, 'num_layers': 2, 'normalize': False}. Best is trial 86 with value: 235.6135330998819.\n",
      "[I 2024-12-04 14:47:30,700] Trial 93 finished with value: -601.5850107801833 and parameters: {'time_horizon': 22, 'learning_rate': 0.00022005077252141303, 'gamma': 0.9205467594343314, 'eps_clip': 0.29269495910916404, 'ppo_epochs': 7, 'entropy_beta': 0.0005102255098394182, 'batch_size': 384, 'buffer_size': 6912, 'hidden_units': 512, 'num_layers': 2, 'normalize': False}. Best is trial 86 with value: 235.6135330998819.\n",
      "[I 2024-12-04 14:47:33,654] Trial 94 finished with value: 100.22118804168662 and parameters: {'time_horizon': 22, 'learning_rate': 8.914348271574782e-05, 'gamma': 0.9182766101689277, 'eps_clip': 0.2867513371900866, 'ppo_epochs': 8, 'entropy_beta': 0.0010474991387517672, 'batch_size': 416, 'buffer_size': 7488, 'hidden_units': 480, 'num_layers': 2, 'normalize': False}. Best is trial 86 with value: 235.6135330998819.\n",
      "[I 2024-12-04 14:47:36,752] Trial 95 finished with value: 236.54544416928388 and parameters: {'time_horizon': 24, 'learning_rate': 0.00017707457494963737, 'gamma': 0.925435084062297, 'eps_clip': 0.2745998642281857, 'ppo_epochs': 7, 'entropy_beta': 0.0009057529820175668, 'batch_size': 416, 'buffer_size': 6656, 'hidden_units': 480, 'num_layers': 2, 'normalize': False}. Best is trial 95 with value: 236.54544416928388.\n",
      "[I 2024-12-04 14:47:38,882] Trial 96 finished with value: 238.54891494120938 and parameters: {'time_horizon': 24, 'learning_rate': 0.00017526923839631796, 'gamma': 0.9300332871920146, 'eps_clip': 0.275768189845041, 'ppo_epochs': 5, 'entropy_beta': 0.0012168271435102857, 'batch_size': 320, 'buffer_size': 5120, 'hidden_units': 448, 'num_layers': 2, 'normalize': False}. Best is trial 96 with value: 238.54891494120938.\n",
      "[I 2024-12-04 14:47:41,071] Trial 97 finished with value: 228.7562275202295 and parameters: {'time_horizon': 24, 'learning_rate': 0.00018350467409118998, 'gamma': 0.9303903438784419, 'eps_clip': 0.2779358492600977, 'ppo_epochs': 5, 'entropy_beta': 0.001203866383553922, 'batch_size': 320, 'buffer_size': 5120, 'hidden_units': 448, 'num_layers': 2, 'normalize': False}. Best is trial 96 with value: 238.54891494120938.\n",
      "[I 2024-12-04 14:47:43,354] Trial 98 finished with value: -150.6265503513092 and parameters: {'time_horizon': 24, 'learning_rate': 0.00017632031161243604, 'gamma': 0.9319378814140967, 'eps_clip': 0.2806285904019835, 'ppo_epochs': 5, 'entropy_beta': 0.0014437829085216247, 'batch_size': 448, 'buffer_size': 8064, 'hidden_units': 448, 'num_layers': 2, 'normalize': False}. Best is trial 96 with value: 238.54891494120938.\n",
      "[I 2024-12-04 14:47:45,365] Trial 99 finished with value: 234.1572468478741 and parameters: {'time_horizon': 24, 'learning_rate': 0.00030343107339314383, 'gamma': 0.9341661122720368, 'eps_clip': 0.28724730414813293, 'ppo_epochs': 5, 'entropy_beta': 0.0011970905920395344, 'batch_size': 320, 'buffer_size': 5120, 'hidden_units': 416, 'num_layers': 2, 'normalize': False}. Best is trial 96 with value: 238.54891494120938.\n"
     ]
    },
    {
     "name": "stdout",
     "output_type": "stream",
     "text": [
      "Best Hyperparameters:\n",
      "{'time_horizon': 24, 'learning_rate': 0.00017526923839631796, 'gamma': 0.9300332871920146, 'eps_clip': 0.275768189845041, 'ppo_epochs': 5, 'entropy_beta': 0.0012168271435102857, 'batch_size': 320, 'buffer_size': 5120, 'hidden_units': 448, 'num_layers': 2, 'normalize': False}\n"
     ]
    }
   ],
   "execution_count": 26
  },
  {
   "metadata": {
    "ExecuteTime": {
     "end_time": "2024-12-04T14:48:15.666470Z",
     "start_time": "2024-12-04T14:47:45.399610Z"
    }
   },
   "cell_type": "code",
   "source": [
    "\n",
    "# Train the Agent with the Best Hyperparameters\n",
    "best_params = study.best_params\n",
    "agent = PPOAgent(\n",
    "    state_dim=state_dim,\n",
    "    action_dim=action_dim,\n",
    "    lr=best_params[\"learning_rate\"],\n",
    "    gamma=best_params[\"gamma\"],\n",
    "    eps_clip=best_params[\"eps_clip\"],\n",
    "    batch_size=best_params[\"batch_size\"],\n",
    "    ppo_epochs=best_params[\"ppo_epochs\"],\n",
    "    entropy_beta=best_params[\"entropy_beta\"],\n",
    "    buffer_size=best_params[\"buffer_size\"],\n",
    "    max_steps=env.max_steps,\n",
    "    hidden_units=best_params[\"hidden_units\"],\n",
    "    num_layers=best_params[\"num_layers\"],\n",
    ")\n",
    "\n",
    "\n",
    "buffer_size = best_params[\"buffer_size\"]  # From hyperparameter optimization\n",
    "batch_size = best_params[\"batch_size\"]\n",
    "# Initialize variables for dynamic time horizon\n",
    "initial_horizon = 6  # Start with a small time horizon\n",
    "max_horizon = 24     # Full time period (24 hours, in your case)\n",
    "horizon_increment = 2  # Increase the horizon incrementally\n",
    "time_horizon = initial_horizon\n",
    "\n",
    "reward_history = []\n",
    "\n",
    "for episode in range(1000):  # Number of training episodes\n",
    "\n",
    "    time_horizon = min(max_horizon, initial_horizon + episode * horizon_increment)\n",
    "\n",
    "    states, actions, rewards, dones, old_probs = [], [], [], [], []\n",
    "    state, _ = env.reset()  # Reset environment at the start of the episode\n",
    "    total_reward = 0\n",
    "\n",
    "    for t in range(time_horizon):  # Use the dynamic time horizon instead of fixed `max_steps`\n",
    "        state_tensor = torch.tensor(state, dtype=torch.float32)\n",
    "        action_probs = agent.policy(state_tensor).detach().numpy()\n",
    "        action = np.random.choice(env.action_space.n, p=action_probs)\n",
    "\n",
    "        new_state, reward, done, truncated, _ = env.step(action)\n",
    "\n",
    "        # Store transitions\n",
    "        states.append(state)\n",
    "        actions.append(action)\n",
    "        rewards.append(reward)\n",
    "        dones.append(done or truncated)\n",
    "        old_probs.append(action_probs[action])\n",
    "\n",
    "        state = new_state\n",
    "        total_reward += reward\n",
    "\n",
    "        if done or truncated:\n",
    "            break\n",
    "\n",
    "    # Train PPO with collected trajectories\n",
    "    agent.train((states, actions, rewards, dones, old_probs))\n",
    "    reward_history.append(total_reward)\n",
    "\n",
    "    # Log progress\n",
    "    if episode % 50 == 0:\n",
    "        print(f\"Episode {episode}: Total Reward = {total_reward}, Time Horizon = {time_horizon}\")\n"
   ],
   "id": "5e3f75c4321f2670",
   "outputs": [
    {
     "name": "stdout",
     "output_type": "stream",
     "text": [
      "Episode 0: Total Reward = 7.7622000074302555, Time Horizon = 6\n",
      "Episode 50: Total Reward = 222.04804792875217, Time Horizon = 24\n",
      "Episode 100: Total Reward = 238.5367964112594, Time Horizon = 24\n",
      "Episode 150: Total Reward = 238.5367964112594, Time Horizon = 24\n",
      "Episode 200: Total Reward = 238.5367964112594, Time Horizon = 24\n",
      "Episode 250: Total Reward = 238.5367964112594, Time Horizon = 24\n",
      "Episode 300: Total Reward = 238.5367964112594, Time Horizon = 24\n",
      "Episode 350: Total Reward = 238.5367964112594, Time Horizon = 24\n",
      "Episode 400: Total Reward = 238.5367964112594, Time Horizon = 24\n",
      "Episode 450: Total Reward = 238.5367964112594, Time Horizon = 24\n",
      "Episode 500: Total Reward = 238.5367964112594, Time Horizon = 24\n",
      "Episode 550: Total Reward = 238.5367964112594, Time Horizon = 24\n",
      "Episode 600: Total Reward = 238.5367964112594, Time Horizon = 24\n",
      "Episode 650: Total Reward = 238.5367964112594, Time Horizon = 24\n",
      "Episode 700: Total Reward = 238.5367964112594, Time Horizon = 24\n",
      "Episode 750: Total Reward = 238.5367964112594, Time Horizon = 24\n",
      "Episode 800: Total Reward = 238.5367964112594, Time Horizon = 24\n",
      "Episode 850: Total Reward = 238.5367964112594, Time Horizon = 24\n",
      "Episode 900: Total Reward = 238.5367964112594, Time Horizon = 24\n",
      "Episode 950: Total Reward = 238.5367964112594, Time Horizon = 24\n"
     ]
    }
   ],
   "execution_count": 27
  },
  {
   "metadata": {
    "ExecuteTime": {
     "end_time": "2024-12-04T14:48:15.867727Z",
     "start_time": "2024-12-04T14:48:15.694750Z"
    }
   },
   "cell_type": "code",
   "source": [
    "# Plot rewards\n",
    "plt.figure(figsize=(12, 6))\n",
    "plt.plot(reward_history)\n",
    "plt.xlabel(\"Episode\")\n",
    "plt.ylabel(\"Total Reward\")\n",
    "plt.title(\"Learning Curve (Custom PPO)\")\n",
    "plt.grid()\n",
    "plt.show()"
   ],
   "id": "c1c0449d9fa954e4",
   "outputs": [
    {
     "data": {
      "text/plain": [
       "<Figure size 1200x600 with 1 Axes>"
      ],
      "image/png": "[encoded data removed]"
     },
     "metadata": {},
     "output_type": "display_data"
    }
   ],
   "execution_count": 28
  },
  {
   "metadata": {
    "ExecuteTime": {
     "end_time": "2024-12-04T14:48:16.290137Z",
     "start_time": "2024-12-04T14:48:15.885735Z"
    }
   },
   "cell_type": "code",
   "source": [
    "# Evaluation Loop\n",
    "evaluation_episodes = 100  # Number of episodes for evaluation\n",
    "state, _ = env.reset()\n",
    "\n",
    "evaluation_rewards = []\n",
    "plasma_concentration_trajectories = []\n",
    "\n",
    "for episode in range(evaluation_episodes):\n",
    "    state, _ = env.reset()\n",
    "    total_reward = 0\n",
    "    plasma_concentration_history = [state[0]]  # Track plasma concentration\n",
    "\n",
    "    for _ in range(env.max_steps):  # Use max_steps from environment\n",
    "        state_tensor = torch.tensor(state, dtype=torch.float32).unsqueeze(0)\n",
    "        action_probs = agent.policy(state_tensor).detach().numpy().flatten()\n",
    "        action = np.argmax(action_probs)  # Greedy action selection for evaluation\n",
    "\n",
    "        new_state, reward, done, truncated, _ = env.step(action)\n",
    "        plasma_concentration_history.append(new_state[0])\n",
    "\n",
    "        state = new_state\n",
    "        total_reward += reward\n",
    "\n",
    "        if done or truncated:\n",
    "            break\n",
    "\n",
    "    evaluation_rewards.append(total_reward)\n",
    "    plasma_concentration_trajectories.append(plasma_concentration_history)\n",
    "\n",
    "# Plot plasma concentration from the last evaluation episode\n",
    "plt.figure(figsize=(12, 6))\n",
    "plt.plot(plasma_concentration_trajectories[-1], label=\"Plasma Concentration\")\n",
    "plt.axhline(y=env.therapeutic_range[0], color=\"g\", linestyle=\"--\", label=\"Lower Therapeutic Range\")\n",
    "plt.axhline(y=env.therapeutic_range[1], color=\"g\", linestyle=\"--\", label=\"Upper Therapeutic Range\")\n",
    "plt.axhline(y=100, color=\"r\", linestyle=\"--\", label=\"Toxic Level\")\n",
    "plt.xlabel(\"Time (hours)\")\n",
    "plt.ylabel(\"Plasma Concentration (mg/L)\")\n",
    "plt.title(\"Plasma Concentration Over Time (Custom PPO)\")\n",
    "plt.legend()\n",
    "plt.grid()\n",
    "plt.show()"
   ],
   "id": "8e7268d432fda8f5",
   "outputs": [
    {
     "data": {
      "text/plain": [
       "<Figure size 1200x600 with 1 Axes>"
      ],
      "image/png": "[encoded data removed]"
     },
     "metadata": {},
     "output_type": "display_data"
    }
   ],
   "execution_count": 29
  },
  {
   "metadata": {
    "ExecuteTime": {
     "end_time": "2024-12-04T14:48:16.337091Z",
     "start_time": "2024-12-04T14:48:16.317140Z"
    }
   },
   "cell_type": "code",
   "source": "optuna.visualization.plot_optimization_history(study).show()\n",
   "id": "46e49093cdbb20e9",
   "outputs": [
    {
     "data": {
      "application/vnd.plotly.v1+json": {
       "data": [
        {
         "mode": "markers",
         "name": "Objective Value",
         "x": [
          0,
          1,
          2,
          3,
          4,
          5,
          6,
          7,
          8,
          9,
          10,
          11,
          12,
          13,
          14,
          15,
          16,
          17,
          18,
          19,
          20,
          21,
          22,
          23,
          24,
          25,
          26,
          27,
          28,
          29,
          30,
          31,
          32,
          33,
          34,
          35,
          36,
          37,
          38,
          39,
          40,
          41,
          42,
          43,
          44,
          45,
          46,
          47,
          48,
          49,
          50,
          51,
          52,
          53,
          54,
          55,
          56,
          57,
          58,
          59,
          60,
          61,
          62,
          63,
          64,
          65,
          66,
          67,
          68,
          69,
          70,
          71,
          72,
          73,
          74,
          75,
          76,
          77,
          78,
          79,
          80,
          81,
          82,
          83,
          84,
          85,
          86,
          87,
          88,
          89,
          90,
          91,
          92,
          93,
          94,
          95,
          96,
          97,
          98,
          99
         ],
         "y": [
          87.36030682535524,
          -102.85274050044714,
          8.751790310241326,
          40.17434102473495,
          21.840104398194022,
          46.69576097763982,
          -53.24210170302457,
          121.77577873094829,
          -18.968976656102676,
          -41.33869181706028,
          147.3467769954118,
          153.79829625273726,
          107.3408236057448,
          95.27744932246071,
          162.25936547684682,
          140.26817846751538,
          66.43653705979388,
          155.94058833521976,
          72.45100487572276,
          98.39687814263652,
          158.0490907623152,
          153.74614643810023,
          82.86165020400148,
          111.67006468173537,
          92.40265308813505,
          151.8808922966051,
          110.34396939712391,
          91.49139927583623,
          70.22814313571928,
          162.62757890297905,
          213.66944833950282,
          210.58496648086725,
          189.03451252198818,
          194.26981873565325,
          215.91436583889327,
          188.24226371804932,
          -143.68625116327587,
          139.8899913389207,
          193.66813573286453,
          -213.4470651920534,
          109.01326660307846,
          179.78870313560515,
          163.44705199479674,
          187.6553303100744,
          185.42430731277676,
          203.32495526866794,
          17.95361464424419,
          86.67306217141649,
          -20.3385791833718,
          176.31072474797483,
          -131.0827826975615,
          196.68118119755502,
          189.0857071835975,
          182.45468420712572,
          -116.68485349606088,
          42.287371651309314,
          203.1757588561633,
          182.36680053734693,
          195.96901848348847,
          122.19192564111385,
          44.1980088866786,
          77.35846037589795,
          -8.099382969157494,
          139.01926845988544,
          124.17103427596263,
          177.62967577788788,
          170.86253191243057,
          83.98791292889358,
          10.765865817749077,
          146.49651376027694,
          -279.8063427809811,
          214.15959201701378,
          169.8278399746743,
          184.13429962239627,
          156.79753602237122,
          184.07251225177103,
          163.7344731576364,
          169.11928827439718,
          205.02232326420446,
          192.93924292046955,
          172.0005587467459,
          172.6362750585583,
          190.9625404567279,
          216.42247113609213,
          164.43519439144634,
          191.30301958276016,
          235.6135330998819,
          -181.73704808650177,
          -636.6920746472592,
          203.52584294263644,
          62.62722115599665,
          -326.20961778557137,
          189.14697523183676,
          -601.5850107801833,
          100.22118804168662,
          236.54544416928388,
          238.54891494120938,
          228.7562275202295,
          -150.6265503513092,
          234.1572468478741
         ],
         "type": "scatter"
        },
        {
         "mode": "lines",
         "name": "Best Value",
         "x": [
          0,
          1,
          2,
          3,
          4,
          5,
          6,
          7,
          8,
          9,
          10,
          11,
          12,
          13,
          14,
          15,
          16,
          17,
          18,
          19,
          20,
          21,
          22,
          23,
          24,
          25,
          26,
          27,
          28,
          29,
          30,
          31,
          32,
          33,
          34,
          35,
          36,
          37,
          38,
          39,
          40,
          41,
          42,
          43,
          44,
          45,
          46,
          47,
          48,
          49,
          50,
          51,
          52,
          53,
          54,
          55,
          56,
          57,
          58,
          59,
          60,
          61,
          62,
          63,
          64,
          65,
          66,
          67,
          68,
          69,
          70,
          71,
          72,
          73,
          74,
          75,
          76,
          77,
          78,
          79,
          80,
          81,
          82,
          83,
          84,
          85,
          86,
          87,
          88,
          89,
          90,
          91,
          92,
          93,
          94,
          95,
          96,
          97,
          98,
          99
         ],
         "y": [
          87.36030682535524,
          87.36030682535524,
          87.36030682535524,
          87.36030682535524,
          87.36030682535524,
          87.36030682535524,
          87.36030682535524,
          121.77577873094829,
          121.77577873094829,
          121.77577873094829,
          147.3467769954118,
          153.79829625273726,
          153.79829625273726,
          153.79829625273726,
          162.25936547684682,
          162.25936547684682,
          162.25936547684682,
          162.25936547684682,
          162.25936547684682,
          162.25936547684682,
          162.25936547684682,
          162.25936547684682,
          162.25936547684682,
          162.25936547684682,
          162.25936547684682,
          162.25936547684682,
          162.25936547684682,
          162.25936547684682,
          162.25936547684682,
          162.62757890297905,
          213.66944833950282,
          213.66944833950282,
          213.66944833950282,
          213.66944833950282,
          215.91436583889327,
          215.91436583889327,
          215.91436583889327,
          215.91436583889327,
          215.91436583889327,
          215.91436583889327,
          215.91436583889327,
          215.91436583889327,
          215.91436583889327,
          215.91436583889327,
          215.91436583889327,
          215.91436583889327,
          215.91436583889327,
          215.91436583889327,
          215.91436583889327,
          215.91436583889327,
          215.91436583889327,
          215.91436583889327,
          215.91436583889327,
          215.91436583889327,
          215.91436583889327,
          215.91436583889327,
          215.91436583889327,
          215.91436583889327,
          215.91436583889327,
          215.91436583889327,
          215.91436583889327,
          215.91436583889327,
          215.91436583889327,
          215.91436583889327,
          215.91436583889327,
          215.91436583889327,
          215.91436583889327,
          215.91436583889327,
          215.91436583889327,
          215.91436583889327,
          215.91436583889327,
          215.91436583889327,
          215.91436583889327,
          215.91436583889327,
          215.91436583889327,
          215.91436583889327,
          215.91436583889327,
          215.91436583889327,
          215.91436583889327,
          215.91436583889327,
          215.91436583889327,
          215.91436583889327,
          215.91436583889327,
          216.42247113609213,
          216.42247113609213,
          216.42247113609213,
          235.6135330998819,
          235.6135330998819,
          235.6135330998819,
          235.6135330998819,
          235.6135330998819,
          235.6135330998819,
          235.6135330998819,
          235.6135330998819,
          235.6135330998819,
          236.54544416928388,
          238.54891494120938,
          238.54891494120938,
          238.54891494120938,
          238.54891494120938
         ],
         "type": "scatter"
        },
        {
         "marker": {
          "color": "#cccccc"
         },
         "mode": "markers",
         "name": "Infeasible Trial",
         "showlegend": false,
         "x": [],
         "y": [],
         "type": "scatter"
        }
       ],
       "layout": {
        "title": {
         "text": "Optimization History Plot"
        },
        "xaxis": {
         "title": {
          "text": "Trial"
         }
        },
        "yaxis": {
         "title": {
          "text": "Objective Value"
         }
        },
        "template": {
         "data": {
          "histogram2dcontour": [
           {
            "type": "histogram2dcontour",
            "colorbar": {
             "outlinewidth": 0,
             "ticks": ""
            },
            "colorscale": [
             [
              0.0,
              "#0d0887"
             ],
             [
              0.1111111111111111,
              "#46039f"
             ],
             [
              0.2222222222222222,
              "#7201a8"
             ],
             [
              0.3333333333333333,
              "#9c179e"
             ],
             [
              0.4444444444444444,
              "#bd3786"
             ],
             [
              0.5555555555555556,
              "#d8576b"
             ],
             [
              0.6666666666666666,
              "#ed7953"
             ],
             [
              0.7777777777777778,
              "#fb9f3a"
             ],
             [
              0.8888888888888888,
              "#fdca26"
             ],
             [
              1.0,
              "#f0f921"
             ]
            ]
           }
          ],
          "choropleth": [
           {
            "type": "choropleth",
            "colorbar": {
             "outlinewidth": 0,
             "ticks": ""
            }
           }
          ],
          "histogram2d": [
           {
            "type": "histogram2d",
            "colorbar": {
             "outlinewidth": 0,
             "ticks": ""
            },
            "colorscale": [
             [
              0.0,
              "#0d0887"
             ],
             [
              0.1111111111111111,
              "#46039f"
             ],
             [
              0.2222222222222222,
              "#7201a8"
             ],
             [
              0.3333333333333333,
              "#9c179e"
             ],
             [
              0.4444444444444444,
              "#bd3786"
             ],
             [
              0.5555555555555556,
              "#d8576b"
             ],
             [
              0.6666666666666666,
              "#ed7953"
             ],
             [
              0.7777777777777778,
              "#fb9f3a"
             ],
             [
              0.8888888888888888,
              "#fdca26"
             ],
             [
              1.0,
              "#f0f921"
             ]
            ]
           }
          ],
          "heatmap": [
           {
            "type": "heatmap",
            "colorbar": {
             "outlinewidth": 0,
             "ticks": ""
            },
            "colorscale": [
             [
              0.0,
              "#0d0887"
             ],
             [
              0.1111111111111111,
              "#46039f"
             ],
             [
              0.2222222222222222,
              "#7201a8"
             ],
             [
              0.3333333333333333,
              "#9c179e"
             ],
             [
              0.4444444444444444,
              "#bd3786"
             ],
             [
              0.5555555555555556,
              "#d8576b"
             ],
             [
              0.6666666666666666,
              "#ed7953"
             ],
             [
              0.7777777777777778,
              "#fb9f3a"
             ],
             [
              0.8888888888888888,
              "#fdca26"
             ],
             [
              1.0,
              "#f0f921"
             ]
            ]
           }
          ],
          "heatmapgl": [
           {
            "type": "heatmapgl",
            "colorbar": {
             "outlinewidth": 0,
             "ticks": ""
            },
            "colorscale": [
             [
              0.0,
              "#0d0887"
             ],
             [
              0.1111111111111111,
              "#46039f"
             ],
             [
              0.2222222222222222,
              "#7201a8"
             ],
             [
              0.3333333333333333,
              "#9c179e"
             ],
             [
              0.4444444444444444,
              "#bd3786"
             ],
             [
              0.5555555555555556,
              "#d8576b"
             ],
             [
              0.6666666666666666,
              "#ed7953"
             ],
             [
              0.7777777777777778,
              "#fb9f3a"
             ],
             [
              0.8888888888888888,
              "#fdca26"
             ],
             [
              1.0,
              "#f0f921"
             ]
            ]
           }
          ],
          "contourcarpet": [
           {
            "type": "contourcarpet",
            "colorbar": {
             "outlinewidth": 0,
             "ticks": ""
            }
           }
          ],
          "contour": [
           {
            "type": "contour",
            "colorbar": {
             "outlinewidth": 0,
             "ticks": ""
            },
            "colorscale": [
             [
              0.0,
              "#0d0887"
             ],
             [
              0.1111111111111111,
              "#46039f"
             ],
             [
              0.2222222222222222,
              "#7201a8"
             ],
             [
              0.3333333333333333,
              "#9c179e"
             ],
             [
              0.4444444444444444,
              "#bd3786"
             ],
             [
              0.5555555555555556,
              "#d8576b"
             ],
             [
              0.6666666666666666,
              "#ed7953"
             ],
             [
              0.7777777777777778,
              "#fb9f3a"
             ],
             [
              0.8888888888888888,
              "#fdca26"
             ],
             [
              1.0,
              "#f0f921"
             ]
            ]
           }
          ],
          "surface": [
           {
            "type": "surface",
            "colorbar": {
             "outlinewidth": 0,
             "ticks": ""
            },
            "colorscale": [
             [
              0.0,
              "#0d0887"
             ],
             [
              0.1111111111111111,
              "#46039f"
             ],
             [
              0.2222222222222222,
              "#7201a8"
             ],
             [
              0.3333333333333333,
              "#9c179e"
             ],
             [
              0.4444444444444444,
              "#bd3786"
             ],
             [
              0.5555555555555556,
              "#d8576b"
             ],
             [
              0.6666666666666666,
              "#ed7953"
             ],
             [
              0.7777777777777778,
              "#fb9f3a"
             ],
             [
              0.8888888888888888,
              "#fdca26"
             ],
             [
              1.0,
              "#f0f921"
             ]
            ]
           }
          ],
          "mesh3d": [
           {
            "type": "mesh3d",
            "colorbar": {
             "outlinewidth": 0,
             "ticks": ""
            }
           }
          ],
          "scatter": [
           {
            "fillpattern": {
             "fillmode": "overlay",
             "size": 10,
             "solidity": 0.2
            },
            "type": "scatter"
           }
          ],
          "parcoords": [
           {
            "type": "parcoords",
            "line": {
             "colorbar": {
              "outlinewidth": 0,
              "ticks": ""
             }
            }
           }
          ],
          "scatterpolargl": [
           {
            "type": "scatterpolargl",
            "marker": {
             "colorbar": {
              "outlinewidth": 0,
              "ticks": ""
             }
            }
           }
          ],
          "bar": [
           {
            "error_x": {
             "color": "#2a3f5f"
            },
            "error_y": {
             "color": "#2a3f5f"
            },
            "marker": {
             "line": {
              "color": "#E5ECF6",
              "width": 0.5
             },
             "pattern": {
              "fillmode": "overlay",
              "size": 10,
              "solidity": 0.2
             }
            },
            "type": "bar"
           }
          ],
          "scattergeo": [
           {
            "type": "scattergeo",
            "marker": {
             "colorbar": {
              "outlinewidth": 0,
              "ticks": ""
             }
            }
           }
          ],
          "scatterpolar": [
           {
            "type": "scatterpolar",
            "marker": {
             "colorbar": {
              "outlinewidth": 0,
              "ticks": ""
             }
            }
           }
          ],
          "histogram": [
           {
            "marker": {
             "pattern": {
              "fillmode": "overlay",
              "size": 10,
              "solidity": 0.2
             }
            },
            "type": "histogram"
           }
          ],
          "scattergl": [
           {
            "type": "scattergl",
            "marker": {
             "colorbar": {
              "outlinewidth": 0,
              "ticks": ""
             }
            }
           }
          ],
          "scatter3d": [
           {
            "type": "scatter3d",
            "line": {
             "colorbar": {
              "outlinewidth": 0,
              "ticks": ""
             }
            },
            "marker": {
             "colorbar": {
              "outlinewidth": 0,
              "ticks": ""
             }
            }
           }
          ],
          "scattermapbox": [
           {
            "type": "scattermapbox",
            "marker": {
             "colorbar": {
              "outlinewidth": 0,
              "ticks": ""
             }
            }
           }
          ],
          "scatterternary": [
           {
            "type": "scatterternary",
            "marker": {
             "colorbar": {
              "outlinewidth": 0,
              "ticks": ""
             }
            }
           }
          ],
          "scattercarpet": [
           {
            "type": "scattercarpet",
            "marker": {
             "colorbar": {
              "outlinewidth": 0,
              "ticks": ""
             }
            }
           }
          ],
          "carpet": [
           {
            "aaxis": {
             "endlinecolor": "#2a3f5f",
             "gridcolor": "white",
             "linecolor": "white",
             "minorgridcolor": "white",
             "startlinecolor": "#2a3f5f"
            },
            "baxis": {
             "endlinecolor": "#2a3f5f",
             "gridcolor": "white",
             "linecolor": "white",
             "minorgridcolor": "white",
             "startlinecolor": "#2a3f5f"
            },
            "type": "carpet"
           }
          ],
          "table": [
           {
            "cells": {
             "fill": {
              "color": "#EBF0F8"
             },
             "line": {
              "color": "white"
             }
            },
            "header": {
             "fill": {
              "color": "#C8D4E3"
             },
             "line": {
              "color": "white"
             }
            },
            "type": "table"
           }
          ],
          "barpolar": [
           {
            "marker": {
             "line": {
              "color": "#E5ECF6",
              "width": 0.5
             },
             "pattern": {
              "fillmode": "overlay",
              "size": 10,
              "solidity": 0.2
             }
            },
            "type": "barpolar"
           }
          ],
          "pie": [
           {
            "automargin": true,
            "type": "pie"
           }
          ]
         },
         "layout": {
          "autotypenumbers": "strict",
          "colorway": [
           "#636efa",
           "#EF553B",
           "#00cc96",
           "#ab63fa",
           "#FFA15A",
           "#19d3f3",
           "#FF6692",
           "#B6E880",
           "#FF97FF",
           "#FECB52"
          ],
          "font": {
           "color": "#2a3f5f"
          },
          "hovermode": "closest",
          "hoverlabel": {
           "align": "left"
          },
          "paper_bgcolor": "white",
          "plot_bgcolor": "#E5ECF6",
          "polar": {
           "bgcolor": "#E5ECF6",
           "angularaxis": {
            "gridcolor": "white",
            "linecolor": "white",
            "ticks": ""
           },
           "radialaxis": {
            "gridcolor": "white",
            "linecolor": "white",
            "ticks": ""
           }
          },
          "ternary": {
           "bgcolor": "#E5ECF6",
           "aaxis": {
            "gridcolor": "white",
            "linecolor": "white",
            "ticks": ""
           },
           "baxis": {
            "gridcolor": "white",
            "linecolor": "white",
            "ticks": ""
           },
           "caxis": {
            "gridcolor": "white",
            "linecolor": "white",
            "ticks": ""
           }
          },
          "coloraxis": {
           "colorbar": {
            "outlinewidth": 0,
            "ticks": ""
           }
          },
          "colorscale": {
           "sequential": [
            [
             0.0,
             "#0d0887"
            ],
            [
             0.1111111111111111,
             "#46039f"
            ],
            [
             0.2222222222222222,
             "#7201a8"
            ],
            [
             0.3333333333333333,
             "#9c179e"
            ],
            [
             0.4444444444444444,
             "#bd3786"
            ],
            [
             0.5555555555555556,
             "#d8576b"
            ],
            [
             0.6666666666666666,
             "#ed7953"
            ],
            [
             0.7777777777777778,
             "#fb9f3a"
            ],
            [
             0.8888888888888888,
             "#fdca26"
            ],
            [
             1.0,
             "#f0f921"
            ]
           ],
           "sequentialminus": [
            [
             0.0,
             "#0d0887"
            ],
            [
             0.1111111111111111,
             "#46039f"
            ],
            [
             0.2222222222222222,
             "#7201a8"
            ],
            [
             0.3333333333333333,
             "#9c179e"
            ],
            [
             0.4444444444444444,
             "#bd3786"
            ],
            [
             0.5555555555555556,
             "#d8576b"
            ],
            [
             0.6666666666666666,
             "#ed7953"
            ],
            [
             0.7777777777777778,
             "#fb9f3a"
            ],
            [
             0.8888888888888888,
             "#fdca26"
            ],
            [
             1.0,
             "#f0f921"
            ]
           ],
           "diverging": [
            [
             0,
             "#8e0152"
            ],
            [
             0.1,
             "#c51b7d"
            ],
            [
             0.2,
             "#de77ae"
            ],
            [
             0.3,
             "#f1b6da"
            ],
            [
             0.4,
             "#fde0ef"
            ],
            [
             0.5,
             "#f7f7f7"
            ],
            [
             0.6,
             "#e6f5d0"
            ],
            [
             0.7,
             "#b8e186"
            ],
            [
             0.8,
             "#7fbc41"
            ],
            [
             0.9,
             "#4d9221"
            ],
            [
             1,
             "#276419"
            ]
           ]
          },
          "xaxis": {
           "gridcolor": "white",
           "linecolor": "white",
           "ticks": "",
           "title": {
            "standoff": 15
           },
           "zerolinecolor": "white",
           "automargin": true,
           "zerolinewidth": 2
          },
          "yaxis": {
           "gridcolor": "white",
           "linecolor": "white",
           "ticks": "",
           "title": {
            "standoff": 15
           },
           "zerolinecolor": "white",
           "automargin": true,
           "zerolinewidth": 2
          },
          "scene": {
           "xaxis": {
            "backgroundcolor": "#E5ECF6",
            "gridcolor": "white",
            "linecolor": "white",
            "showbackground": true,
            "ticks": "",
            "zerolinecolor": "white",
            "gridwidth": 2
           },
           "yaxis": {
            "backgroundcolor": "#E5ECF6",
            "gridcolor": "white",
            "linecolor": "white",
            "showbackground": true,
            "ticks": "",
            "zerolinecolor": "white",
            "gridwidth": 2
           },
           "zaxis": {
            "backgroundcolor": "#E5ECF6",
            "gridcolor": "white",
            "linecolor": "white",
            "showbackground": true,
            "ticks": "",
            "zerolinecolor": "white",
            "gridwidth": 2
           }
          },
          "shapedefaults": {
           "line": {
            "color": "#2a3f5f"
           }
          },
          "annotationdefaults": {
           "arrowcolor": "#2a3f5f",
           "arrowhead": 0,
           "arrowwidth": 1
          },
          "geo": {
           "bgcolor": "white",
           "landcolor": "#E5ECF6",
           "subunitcolor": "white",
           "showland": true,
           "showlakes": true,
           "lakecolor": "white"
          },
          "title": {
           "x": 0.05
          },
          "mapbox": {
           "style": "light"
          }
         }
        }
       },
       "config": {
        "plotlyServerURL": "https://plot.ly"
       }
      },
      "text/html": [
       "<div>                            <div id=\"e1e5f705-bb58-49a1-8ca4-45a6cb32e127\" class=\"plotly-graph-div\" style=\"height:525px; width:100%;\"></div>            <script type=\"text/javascript\">                require([\"plotly\"], function(Plotly) {                    window.PLOTLYENV=window.PLOTLYENV || {};                                    if (document.getElementById(\"e1e5f705-bb58-49a1-8ca4-45a6cb32e127\")) {                    Plotly.newPlot(                        \"e1e5f705-bb58-49a1-8ca4-45a6cb32e127\",                        [{\"mode\":\"markers\",\"name\":\"Objective Value\",\"x\":[0,1,2,3,4,5,6,7,8,9,10,11,12,13,14,15,16,17,18,19,20,21,22,23,24,25,26,27,28,29,30,31,32,33,34,35,36,37,38,39,40,41,42,43,44,45,46,47,48,49,50,51,52,53,54,55,56,57,58,59,60,61,62,63,64,65,66,67,68,69,70,71,72,73,74,75,76,77,78,79,80,81,82,83,84,85,86,87,88,89,90,91,92,93,94,95,96,97,98,99],\"y\":[87.36030682535524,-102.85274050044714,8.751790310241326,40.17434102473495,21.840104398194022,46.69576097763982,-53.24210170302457,121.77577873094829,-18.968976656102676,-41.33869181706028,147.3467769954118,153.79829625273726,107.3408236057448,95.27744932246071,162.25936547684682,140.26817846751538,66.43653705979388,155.94058833521976,72.45100487572276,98.39687814263652,158.0490907623152,153.74614643810023,82.86165020400148,111.67006468173537,92.40265308813505,151.8808922966051,110.34396939712391,91.49139927583623,70.22814313571928,162.62757890297905,213.66944833950282,210.58496648086725,189.03451252198818,194.26981873565325,215.91436583889327,188.24226371804932,-143.68625116327587,139.8899913389207,193.66813573286453,-213.4470651920534,109.01326660307846,179.78870313560515,163.44705199479674,187.6553303100744,185.42430731277676,203.32495526866794,17.95361464424419,86.67306217141649,-20.3385791833718,176.31072474797483,-131.0827826975615,196.68118119755502,189.0857071835975,182.45468420712572,-116.68485349606088,42.287371651309314,203.1757588561633,182.36680053734693,195.96901848348847,122.19192564111385,44.1980088866786,77.35846037589795,-8.099382969157494,139.01926845988544,124.17103427596263,177.62967577788788,170.86253191243057,83.98791292889358,10.765865817749077,146.49651376027694,-279.8063427809811,214.15959201701378,169.8278399746743,184.13429962239627,156.79753602237122,184.07251225177103,163.7344731576364,169.11928827439718,205.02232326420446,192.93924292046955,172.0005587467459,172.6362750585583,190.9625404567279,216.42247113609213,164.43519439144634,191.30301958276016,235.6135330998819,-181.73704808650177,-636.6920746472592,203.52584294263644,62.62722115599665,-326.20961778557137,189.14697523183676,-601.5850107801833,100.22118804168662,236.54544416928388,238.54891494120938,228.7562275202295,-150.6265503513092,234.1572468478741],\"type\":\"scatter\"},{\"mode\":\"lines\",\"name\":\"Best Value\",\"x\":[0,1,2,3,4,5,6,7,8,9,10,11,12,13,14,15,16,17,18,19,20,21,22,23,24,25,26,27,28,29,30,31,32,33,34,35,36,37,38,39,40,41,42,43,44,45,46,47,48,49,50,51,52,53,54,55,56,57,58,59,60,61,62,63,64,65,66,67,68,69,70,71,72,73,74,75,76,77,78,79,80,81,82,83,84,85,86,87,88,89,90,91,92,93,94,95,96,97,98,99],\"y\":[87.36030682535524,87.36030682535524,87.36030682535524,87.36030682535524,87.36030682535524,87.36030682535524,87.36030682535524,121.77577873094829,121.77577873094829,121.77577873094829,147.3467769954118,153.79829625273726,153.79829625273726,153.79829625273726,162.25936547684682,162.25936547684682,162.25936547684682,162.25936547684682,162.25936547684682,162.25936547684682,162.25936547684682,162.25936547684682,162.25936547684682,162.25936547684682,162.25936547684682,162.25936547684682,162.25936547684682,162.25936547684682,162.25936547684682,162.62757890297905,213.66944833950282,213.66944833950282,213.66944833950282,213.66944833950282,215.91436583889327,215.91436583889327,215.91436583889327,215.91436583889327,215.91436583889327,215.91436583889327,215.91436583889327,215.91436583889327,215.91436583889327,215.91436583889327,215.91436583889327,215.91436583889327,215.91436583889327,215.91436583889327,215.91436583889327,215.91436583889327,215.91436583889327,215.91436583889327,215.91436583889327,215.91436583889327,215.91436583889327,215.91436583889327,215.91436583889327,215.91436583889327,215.91436583889327,215.91436583889327,215.91436583889327,215.91436583889327,215.91436583889327,215.91436583889327,215.91436583889327,215.91436583889327,215.91436583889327,215.91436583889327,215.91436583889327,215.91436583889327,215.91436583889327,215.91436583889327,215.91436583889327,215.91436583889327,215.91436583889327,215.91436583889327,215.91436583889327,215.91436583889327,215.91436583889327,215.91436583889327,215.91436583889327,215.91436583889327,215.91436583889327,216.42247113609213,216.42247113609213,216.42247113609213,235.6135330998819,235.6135330998819,235.6135330998819,235.6135330998819,235.6135330998819,235.6135330998819,235.6135330998819,235.6135330998819,235.6135330998819,236.54544416928388,238.54891494120938,238.54891494120938,238.54891494120938,238.54891494120938],\"type\":\"scatter\"},{\"marker\":{\"color\":\"#cccccc\"},\"mode\":\"markers\",\"name\":\"Infeasible Trial\",\"showlegend\":false,\"x\":[],\"y\":[],\"type\":\"scatter\"}],                        {\"title\":{\"text\":\"Optimization History Plot\"},\"xaxis\":{\"title\":{\"text\":\"Trial\"}},\"yaxis\":{\"title\":{\"text\":\"Objective Value\"}},\"template\":{\"data\":{\"histogram2dcontour\":[{\"type\":\"histogram2dcontour\",\"colorbar\":{\"outlinewidth\":0,\"ticks\":\"\"},\"colorscale\":[[0.0,\"#0d0887\"],[0.1111111111111111,\"#46039f\"],[0.2222222222222222,\"#7201a8\"],[0.3333333333333333,\"#9c179e\"],[0.4444444444444444,\"#bd3786\"],[0.5555555555555556,\"#d8576b\"],[0.6666666666666666,\"#ed7953\"],[0.7777777777777778,\"#fb9f3a\"],[0.8888888888888888,\"#fdca26\"],[1.0,\"#f0f921\"]]}],\"choropleth\":[{\"type\":\"choropleth\",\"colorbar\":{\"outlinewidth\":0,\"ticks\":\"\"}}],\"histogram2d\":[{\"type\":\"histogram2d\",\"colorbar\":{\"outlinewidth\":0,\"ticks\":\"\"},\"colorscale\":[[0.0,\"#0d0887\"],[0.1111111111111111,\"#46039f\"],[0.2222222222222222,\"#7201a8\"],[0.3333333333333333,\"#9c179e\"],[0.4444444444444444,\"#bd3786\"],[0.5555555555555556,\"#d8576b\"],[0.6666666666666666,\"#ed7953\"],[0.7777777777777778,\"#fb9f3a\"],[0.8888888888888888,\"#fdca26\"],[1.0,\"#f0f921\"]]}],\"heatmap\":[{\"type\":\"heatmap\",\"colorbar\":{\"outlinewidth\":0,\"ticks\":\"\"},\"colorscale\":[[0.0,\"#0d0887\"],[0.1111111111111111,\"#46039f\"],[0.2222222222222222,\"#7201a8\"],[0.3333333333333333,\"#9c179e\"],[0.4444444444444444,\"#bd3786\"],[0.5555555555555556,\"#d8576b\"],[0.6666666666666666,\"#ed7953\"],[0.7777777777777778,\"#fb9f3a\"],[0.8888888888888888,\"#fdca26\"],[1.0,\"#f0f921\"]]}],\"heatmapgl\":[{\"type\":\"heatmapgl\",\"colorbar\":{\"outlinewidth\":0,\"ticks\":\"\"},\"colorscale\":[[0.0,\"#0d0887\"],[0.1111111111111111,\"#46039f\"],[0.2222222222222222,\"#7201a8\"],[0.3333333333333333,\"#9c179e\"],[0.4444444444444444,\"#bd3786\"],[0.5555555555555556,\"#d8576b\"],[0.6666666666666666,\"#ed7953\"],[0.7777777777777778,\"#fb9f3a\"],[0.8888888888888888,\"#fdca26\"],[1.0,\"#f0f921\"]]}],\"contourcarpet\":[{\"type\":\"contourcarpet\",\"colorbar\":{\"outlinewidth\":0,\"ticks\":\"\"}}],\"contour\":[{\"type\":\"contour\",\"colorbar\":{\"outlinewidth\":0,\"ticks\":\"\"},\"colorscale\":[[0.0,\"#0d0887\"],[0.1111111111111111,\"#46039f\"],[0.2222222222222222,\"#7201a8\"],[0.3333333333333333,\"#9c179e\"],[0.4444444444444444,\"#bd3786\"],[0.5555555555555556,\"#d8576b\"],[0.6666666666666666,\"#ed7953\"],[0.7777777777777778,\"#fb9f3a\"],[0.8888888888888888,\"#fdca26\"],[1.0,\"#f0f921\"]]}],\"surface\":[{\"type\":\"surface\",\"colorbar\":{\"outlinewidth\":0,\"ticks\":\"\"},\"colorscale\":[[0.0,\"#0d0887\"],[0.1111111111111111,\"#46039f\"],[0.2222222222222222,\"#7201a8\"],[0.3333333333333333,\"#9c179e\"],[0.4444444444444444,\"#bd3786\"],[0.5555555555555556,\"#d8576b\"],[0.6666666666666666,\"#ed7953\"],[0.7777777777777778,\"#fb9f3a\"],[0.8888888888888888,\"#fdca26\"],[1.0,\"#f0f921\"]]}],\"mesh3d\":[{\"type\":\"mesh3d\",\"colorbar\":{\"outlinewidth\":0,\"ticks\":\"\"}}],\"scatter\":[{\"fillpattern\":{\"fillmode\":\"overlay\",\"size\":10,\"solidity\":0.2},\"type\":\"scatter\"}],\"parcoords\":[{\"type\":\"parcoords\",\"line\":{\"colorbar\":{\"outlinewidth\":0,\"ticks\":\"\"}}}],\"scatterpolargl\":[{\"type\":\"scatterpolargl\",\"marker\":{\"colorbar\":{\"outlinewidth\":0,\"ticks\":\"\"}}}],\"bar\":[{\"error_x\":{\"color\":\"#2a3f5f\"},\"error_y\":{\"color\":\"#2a3f5f\"},\"marker\":{\"line\":{\"color\":\"#E5ECF6\",\"width\":0.5},\"pattern\":{\"fillmode\":\"overlay\",\"size\":10,\"solidity\":0.2}},\"type\":\"bar\"}],\"scattergeo\":[{\"type\":\"scattergeo\",\"marker\":{\"colorbar\":{\"outlinewidth\":0,\"ticks\":\"\"}}}],\"scatterpolar\":[{\"type\":\"scatterpolar\",\"marker\":{\"colorbar\":{\"outlinewidth\":0,\"ticks\":\"\"}}}],\"histogram\":[{\"marker\":{\"pattern\":{\"fillmode\":\"overlay\",\"size\":10,\"solidity\":0.2}},\"type\":\"histogram\"}],\"scattergl\":[{\"type\":\"scattergl\",\"marker\":{\"colorbar\":{\"outlinewidth\":0,\"ticks\":\"\"}}}],\"scatter3d\":[{\"type\":\"scatter3d\",\"line\":{\"colorbar\":{\"outlinewidth\":0,\"ticks\":\"\"}},\"marker\":{\"colorbar\":{\"outlinewidth\":0,\"ticks\":\"\"}}}],\"scattermapbox\":[{\"type\":\"scattermapbox\",\"marker\":{\"colorbar\":{\"outlinewidth\":0,\"ticks\":\"\"}}}],\"scatterternary\":[{\"type\":\"scatterternary\",\"marker\":{\"colorbar\":{\"outlinewidth\":0,\"ticks\":\"\"}}}],\"scattercarpet\":[{\"type\":\"scattercarpet\",\"marker\":{\"colorbar\":{\"outlinewidth\":0,\"ticks\":\"\"}}}],\"carpet\":[{\"aaxis\":{\"endlinecolor\":\"#2a3f5f\",\"gridcolor\":\"white\",\"linecolor\":\"white\",\"minorgridcolor\":\"white\",\"startlinecolor\":\"#2a3f5f\"},\"baxis\":{\"endlinecolor\":\"#2a3f5f\",\"gridcolor\":\"white\",\"linecolor\":\"white\",\"minorgridcolor\":\"white\",\"startlinecolor\":\"#2a3f5f\"},\"type\":\"carpet\"}],\"table\":[{\"cells\":{\"fill\":{\"color\":\"#EBF0F8\"},\"line\":{\"color\":\"white\"}},\"header\":{\"fill\":{\"color\":\"#C8D4E3\"},\"line\":{\"color\":\"white\"}},\"type\":\"table\"}],\"barpolar\":[{\"marker\":{\"line\":{\"color\":\"#E5ECF6\",\"width\":0.5},\"pattern\":{\"fillmode\":\"overlay\",\"size\":10,\"solidity\":0.2}},\"type\":\"barpolar\"}],\"pie\":[{\"automargin\":true,\"type\":\"pie\"}]},\"layout\":{\"autotypenumbers\":\"strict\",\"colorway\":[\"#636efa\",\"#EF553B\",\"#00cc96\",\"#ab63fa\",\"#FFA15A\",\"#19d3f3\",\"#FF6692\",\"#B6E880\",\"#FF97FF\",\"#FECB52\"],\"font\":{\"color\":\"#2a3f5f\"},\"hovermode\":\"closest\",\"hoverlabel\":{\"align\":\"left\"},\"paper_bgcolor\":\"white\",\"plot_bgcolor\":\"#E5ECF6\",\"polar\":{\"bgcolor\":\"#E5ECF6\",\"angularaxis\":{\"gridcolor\":\"white\",\"linecolor\":\"white\",\"ticks\":\"\"},\"radialaxis\":{\"gridcolor\":\"white\",\"linecolor\":\"white\",\"ticks\":\"\"}},\"ternary\":{\"bgcolor\":\"#E5ECF6\",\"aaxis\":{\"gridcolor\":\"white\",\"linecolor\":\"white\",\"ticks\":\"\"},\"baxis\":{\"gridcolor\":\"white\",\"linecolor\":\"white\",\"ticks\":\"\"},\"caxis\":{\"gridcolor\":\"white\",\"linecolor\":\"white\",\"ticks\":\"\"}},\"coloraxis\":{\"colorbar\":{\"outlinewidth\":0,\"ticks\":\"\"}},\"colorscale\":{\"sequential\":[[0.0,\"#0d0887\"],[0.1111111111111111,\"#46039f\"],[0.2222222222222222,\"#7201a8\"],[0.3333333333333333,\"#9c179e\"],[0.4444444444444444,\"#bd3786\"],[0.5555555555555556,\"#d8576b\"],[0.6666666666666666,\"#ed7953\"],[0.7777777777777778,\"#fb9f3a\"],[0.8888888888888888,\"#fdca26\"],[1.0,\"#f0f921\"]],\"sequentialminus\":[[0.0,\"#0d0887\"],[0.1111111111111111,\"#46039f\"],[0.2222222222222222,\"#7201a8\"],[0.3333333333333333,\"#9c179e\"],[0.4444444444444444,\"#bd3786\"],[0.5555555555555556,\"#d8576b\"],[0.6666666666666666,\"#ed7953\"],[0.7777777777777778,\"#fb9f3a\"],[0.8888888888888888,\"#fdca26\"],[1.0,\"#f0f921\"]],\"diverging\":[[0,\"#8e0152\"],[0.1,\"#c51b7d\"],[0.2,\"#de77ae\"],[0.3,\"#f1b6da\"],[0.4,\"#fde0ef\"],[0.5,\"#f7f7f7\"],[0.6,\"#e6f5d0\"],[0.7,\"#b8e186\"],[0.8,\"#7fbc41\"],[0.9,\"#4d9221\"],[1,\"#276419\"]]},\"xaxis\":{\"gridcolor\":\"white\",\"linecolor\":\"white\",\"ticks\":\"\",\"title\":{\"standoff\":15},\"zerolinecolor\":\"white\",\"automargin\":true,\"zerolinewidth\":2},\"yaxis\":{\"gridcolor\":\"white\",\"linecolor\":\"white\",\"ticks\":\"\",\"title\":{\"standoff\":15},\"zerolinecolor\":\"white\",\"automargin\":true,\"zerolinewidth\":2},\"scene\":{\"xaxis\":{\"backgroundcolor\":\"#E5ECF6\",\"gridcolor\":\"white\",\"linecolor\":\"white\",\"showbackground\":true,\"ticks\":\"\",\"zerolinecolor\":\"white\",\"gridwidth\":2},\"yaxis\":{\"backgroundcolor\":\"#E5ECF6\",\"gridcolor\":\"white\",\"linecolor\":\"white\",\"showbackground\":true,\"ticks\":\"\",\"zerolinecolor\":\"white\",\"gridwidth\":2},\"zaxis\":{\"backgroundcolor\":\"#E5ECF6\",\"gridcolor\":\"white\",\"linecolor\":\"white\",\"showbackground\":true,\"ticks\":\"\",\"zerolinecolor\":\"white\",\"gridwidth\":2}},\"shapedefaults\":{\"line\":{\"color\":\"#2a3f5f\"}},\"annotationdefaults\":{\"arrowcolor\":\"#2a3f5f\",\"arrowhead\":0,\"arrowwidth\":1},\"geo\":{\"bgcolor\":\"white\",\"landcolor\":\"#E5ECF6\",\"subunitcolor\":\"white\",\"showland\":true,\"showlakes\":true,\"lakecolor\":\"white\"},\"title\":{\"x\":0.05},\"mapbox\":{\"style\":\"light\"}}}},                        {\"responsive\": true}                    ).then(function(){\n",
       "                            \n",
       "var gd = document.getElementById('e1e5f705-bb58-49a1-8ca4-45a6cb32e127');\n",
       "var x = new MutationObserver(function (mutations, observer) {{\n",
       "        var display = window.getComputedStyle(gd).display;\n",
       "        if (!display || display === 'none') {{\n",
       "            console.log([gd, 'removed!']);\n",
       "            Plotly.purge(gd);\n",
       "            observer.disconnect();\n",
       "        }}\n",
       "}});\n",
       "\n",
       "// Listen for the removal of the full notebook cells\n",
       "var notebookContainer = gd.closest('#notebook-container');\n",
       "if (notebookContainer) {{\n",
       "    x.observe(notebookContainer, {childList: true});\n",
       "}}\n",
       "\n",
       "// Listen for the clearing of the current output cell\n",
       "var outputEl = gd.closest('.output');\n",
       "if (outputEl) {{\n",
       "    x.observe(outputEl, {childList: true});\n",
       "}}\n",
       "\n",
       "                        })                };                });            </script>        </div>"
      ]
     },
     "metadata": {},
     "output_type": "display_data"
    }
   ],
   "execution_count": 30
  },
  {
   "metadata": {
    "ExecuteTime": {
     "end_time": "2024-12-04T14:48:17.390189Z",
     "start_time": "2024-12-04T14:48:16.343988Z"
    }
   },
   "cell_type": "code",
   "source": "optuna.visualization.plot_param_importances(study).show()",
   "id": "2768426ccc8d9a5d",
   "outputs": [
    {
     "data": {
      "application/vnd.plotly.v1+json": {
       "data": [
        {
         "cliponaxis": false,
         "hovertemplate": [
          "num_layers (IntDistribution): 0.009430132285153369<extra></extra>",
          "ppo_epochs (IntDistribution): 0.034436607482252614<extra></extra>",
          "learning_rate (FloatDistribution): 0.036595969229876624<extra></extra>",
          "batch_size (IntDistribution): 0.06104204297623482<extra></extra>",
          "hidden_units (IntDistribution): 0.07260324319073413<extra></extra>",
          "time_horizon (IntDistribution): 0.08741713476863598<extra></extra>",
          "entropy_beta (FloatDistribution): 0.09043293398558097<extra></extra>",
          "eps_clip (FloatDistribution): 0.11246643257422373<extra></extra>",
          "gamma (FloatDistribution): 0.18359083438784643<extra></extra>",
          "normalize (CategoricalDistribution): 0.31198466911946143<extra></extra>"
         ],
         "name": "Objective Value",
         "orientation": "h",
         "text": [
          "<0.01",
          "0.03",
          "0.04",
          "0.06",
          "0.07",
          "0.09",
          "0.09",
          "0.11",
          "0.18",
          "0.31"
         ],
         "textposition": "outside",
         "x": [
          0.009430132285153369,
          0.034436607482252614,
          0.036595969229876624,
          0.06104204297623482,
          0.07260324319073413,
          0.08741713476863598,
          0.09043293398558097,
          0.11246643257422373,
          0.18359083438784643,
          0.31198466911946143
         ],
         "y": [
          "num_layers",
          "ppo_epochs",
          "learning_rate",
          "batch_size",
          "hidden_units",
          "time_horizon",
          "entropy_beta",
          "eps_clip",
          "gamma",
          "normalize"
         ],
         "type": "bar"
        }
       ],
       "layout": {
        "title": {
         "text": "Hyperparameter Importances"
        },
        "xaxis": {
         "title": {
          "text": "Hyperparameter Importance"
         }
        },
        "yaxis": {
         "title": {
          "text": "Hyperparameter"
         }
        },
        "template": {
         "data": {
          "histogram2dcontour": [
           {
            "type": "histogram2dcontour",
            "colorbar": {
             "outlinewidth": 0,
             "ticks": ""
            },
            "colorscale": [
             [
              0.0,
              "#0d0887"
             ],
             [
              0.1111111111111111,
              "#46039f"
             ],
             [
              0.2222222222222222,
              "#7201a8"
             ],
             [
              0.3333333333333333,
              "#9c179e"
             ],
             [
              0.4444444444444444,
              "#bd3786"
             ],
             [
              0.5555555555555556,
              "#d8576b"
             ],
             [
              0.6666666666666666,
              "#ed7953"
             ],
             [
              0.7777777777777778,
              "#fb9f3a"
             ],
             [
              0.8888888888888888,
              "#fdca26"
             ],
             [
              1.0,
              "#f0f921"
             ]
            ]
           }
          ],
          "choropleth": [
           {
            "type": "choropleth",
            "colorbar": {
             "outlinewidth": 0,
             "ticks": ""
            }
           }
          ],
          "histogram2d": [
           {
            "type": "histogram2d",
            "colorbar": {
             "outlinewidth": 0,
             "ticks": ""
            },
            "colorscale": [
             [
              0.0,
              "#0d0887"
             ],
             [
              0.1111111111111111,
              "#46039f"
             ],
             [
              0.2222222222222222,
              "#7201a8"
             ],
             [
              0.3333333333333333,
              "#9c179e"
             ],
             [
              0.4444444444444444,
              "#bd3786"
             ],
             [
              0.5555555555555556,
              "#d8576b"
             ],
             [
              0.6666666666666666,
              "#ed7953"
             ],
             [
              0.7777777777777778,
              "#fb9f3a"
             ],
             [
              0.8888888888888888,
              "#fdca26"
             ],
             [
              1.0,
              "#f0f921"
             ]
            ]
           }
          ],
          "heatmap": [
           {
            "type": "heatmap",
            "colorbar": {
             "outlinewidth": 0,
             "ticks": ""
            },
            "colorscale": [
             [
              0.0,
              "#0d0887"
             ],
             [
              0.1111111111111111,
              "#46039f"
             ],
             [
              0.2222222222222222,
              "#7201a8"
             ],
             [
              0.3333333333333333,
              "#9c179e"
             ],
             [
              0.4444444444444444,
              "#bd3786"
             ],
             [
              0.5555555555555556,
              "#d8576b"
             ],
             [
              0.6666666666666666,
              "#ed7953"
             ],
             [
              0.7777777777777778,
              "#fb9f3a"
             ],
             [
              0.8888888888888888,
              "#fdca26"
             ],
             [
              1.0,
              "#f0f921"
             ]
            ]
           }
          ],
          "heatmapgl": [
           {
            "type": "heatmapgl",
            "colorbar": {
             "outlinewidth": 0,
             "ticks": ""
            },
            "colorscale": [
             [
              0.0,
              "#0d0887"
             ],
             [
              0.1111111111111111,
              "#46039f"
             ],
             [
              0.2222222222222222,
              "#7201a8"
             ],
             [
              0.3333333333333333,
              "#9c179e"
             ],
             [
              0.4444444444444444,
              "#bd3786"
             ],
             [
              0.5555555555555556,
              "#d8576b"
             ],
             [
              0.6666666666666666,
              "#ed7953"
             ],
             [
              0.7777777777777778,
              "#fb9f3a"
             ],
             [
              0.8888888888888888,
              "#fdca26"
             ],
             [
              1.0,
              "#f0f921"
             ]
            ]
           }
          ],
          "contourcarpet": [
           {
            "type": "contourcarpet",
            "colorbar": {
             "outlinewidth": 0,
             "ticks": ""
            }
           }
          ],
          "contour": [
           {
            "type": "contour",
            "colorbar": {
             "outlinewidth": 0,
             "ticks": ""
            },
            "colorscale": [
             [
              0.0,
              "#0d0887"
             ],
             [
              0.1111111111111111,
              "#46039f"
             ],
             [
              0.2222222222222222,
              "#7201a8"
             ],
             [
              0.3333333333333333,
              "#9c179e"
             ],
             [
              0.4444444444444444,
              "#bd3786"
             ],
             [
              0.5555555555555556,
              "#d8576b"
             ],
             [
              0.6666666666666666,
              "#ed7953"
             ],
             [
              0.7777777777777778,
              "#fb9f3a"
             ],
             [
              0.8888888888888888,
              "#fdca26"
             ],
             [
              1.0,
              "#f0f921"
             ]
            ]
           }
          ],
          "surface": [
           {
            "type": "surface",
            "colorbar": {
             "outlinewidth": 0,
             "ticks": ""
            },
            "colorscale": [
             [
              0.0,
              "#0d0887"
             ],
             [
              0.1111111111111111,
              "#46039f"
             ],
             [
              0.2222222222222222,
              "#7201a8"
             ],
             [
              0.3333333333333333,
              "#9c179e"
             ],
             [
              0.4444444444444444,
              "#bd3786"
             ],
             [
              0.5555555555555556,
              "#d8576b"
             ],
             [
              0.6666666666666666,
              "#ed7953"
             ],
             [
              0.7777777777777778,
              "#fb9f3a"
             ],
             [
              0.8888888888888888,
              "#fdca26"
             ],
             [
              1.0,
              "#f0f921"
             ]
            ]
           }
          ],
          "mesh3d": [
           {
            "type": "mesh3d",
            "colorbar": {
             "outlinewidth": 0,
             "ticks": ""
            }
           }
          ],
          "scatter": [
           {
            "fillpattern": {
             "fillmode": "overlay",
             "size": 10,
             "solidity": 0.2
            },
            "type": "scatter"
           }
          ],
          "parcoords": [
           {
            "type": "parcoords",
            "line": {
             "colorbar": {
              "outlinewidth": 0,
              "ticks": ""
             }
            }
           }
          ],
          "scatterpolargl": [
           {
            "type": "scatterpolargl",
            "marker": {
             "colorbar": {
              "outlinewidth": 0,
              "ticks": ""
             }
            }
           }
          ],
          "bar": [
           {
            "error_x": {
             "color": "#2a3f5f"
            },
            "error_y": {
             "color": "#2a3f5f"
            },
            "marker": {
             "line": {
              "color": "#E5ECF6",
              "width": 0.5
             },
             "pattern": {
              "fillmode": "overlay",
              "size": 10,
              "solidity": 0.2
             }
            },
            "type": "bar"
           }
          ],
          "scattergeo": [
           {
            "type": "scattergeo",
            "marker": {
             "colorbar": {
              "outlinewidth": 0,
              "ticks": ""
             }
            }
           }
          ],
          "scatterpolar": [
           {
            "type": "scatterpolar",
            "marker": {
             "colorbar": {
              "outlinewidth": 0,
              "ticks": ""
             }
            }
           }
          ],
          "histogram": [
           {
            "marker": {
             "pattern": {
              "fillmode": "overlay",
              "size": 10,
              "solidity": 0.2
             }
            },
            "type": "histogram"
           }
          ],
          "scattergl": [
           {
            "type": "scattergl",
            "marker": {
             "colorbar": {
              "outlinewidth": 0,
              "ticks": ""
             }
            }
           }
          ],
          "scatter3d": [
           {
            "type": "scatter3d",
            "line": {
             "colorbar": {
              "outlinewidth": 0,
              "ticks": ""
             }
            },
            "marker": {
             "colorbar": {
              "outlinewidth": 0,
              "ticks": ""
             }
            }
           }
          ],
          "scattermapbox": [
           {
            "type": "scattermapbox",
            "marker": {
             "colorbar": {
              "outlinewidth": 0,
              "ticks": ""
             }
            }
           }
          ],
          "scatterternary": [
           {
            "type": "scatterternary",
            "marker": {
             "colorbar": {
              "outlinewidth": 0,
              "ticks": ""
             }
            }
           }
          ],
          "scattercarpet": [
           {
            "type": "scattercarpet",
            "marker": {
             "colorbar": {
              "outlinewidth": 0,
              "ticks": ""
             }
            }
           }
          ],
          "carpet": [
           {
            "aaxis": {
             "endlinecolor": "#2a3f5f",
             "gridcolor": "white",
             "linecolor": "white",
             "minorgridcolor": "white",
             "startlinecolor": "#2a3f5f"
            },
            "baxis": {
             "endlinecolor": "#2a3f5f",
             "gridcolor": "white",
             "linecolor": "white",
             "minorgridcolor": "white",
             "startlinecolor": "#2a3f5f"
            },
            "type": "carpet"
           }
          ],
          "table": [
           {
            "cells": {
             "fill": {
              "color": "#EBF0F8"
             },
             "line": {
              "color": "white"
             }
            },
            "header": {
             "fill": {
              "color": "#C8D4E3"
             },
             "line": {
              "color": "white"
             }
            },
            "type": "table"
           }
          ],
          "barpolar": [
           {
            "marker": {
             "line": {
              "color": "#E5ECF6",
              "width": 0.5
             },
             "pattern": {
              "fillmode": "overlay",
              "size": 10,
              "solidity": 0.2
             }
            },
            "type": "barpolar"
           }
          ],
          "pie": [
           {
            "automargin": true,
            "type": "pie"
           }
          ]
         },
         "layout": {
          "autotypenumbers": "strict",
          "colorway": [
           "#636efa",
           "#EF553B",
           "#00cc96",
           "#ab63fa",
           "#FFA15A",
           "#19d3f3",
           "#FF6692",
           "#B6E880",
           "#FF97FF",
           "#FECB52"
          ],
          "font": {
           "color": "#2a3f5f"
          },
          "hovermode": "closest",
          "hoverlabel": {
           "align": "left"
          },
          "paper_bgcolor": "white",
          "plot_bgcolor": "#E5ECF6",
          "polar": {
           "bgcolor": "#E5ECF6",
           "angularaxis": {
            "gridcolor": "white",
            "linecolor": "white",
            "ticks": ""
           },
           "radialaxis": {
            "gridcolor": "white",
            "linecolor": "white",
            "ticks": ""
           }
          },
          "ternary": {
           "bgcolor": "#E5ECF6",
           "aaxis": {
            "gridcolor": "white",
            "linecolor": "white",
            "ticks": ""
           },
           "baxis": {
            "gridcolor": "white",
            "linecolor": "white",
            "ticks": ""
           },
           "caxis": {
            "gridcolor": "white",
            "linecolor": "white",
            "ticks": ""
           }
          },
          "coloraxis": {
           "colorbar": {
            "outlinewidth": 0,
            "ticks": ""
           }
          },
          "colorscale": {
           "sequential": [
            [
             0.0,
             "#0d0887"
            ],
            [
             0.1111111111111111,
             "#46039f"
            ],
            [
             0.2222222222222222,
             "#7201a8"
            ],
            [
             0.3333333333333333,
             "#9c179e"
            ],
            [
             0.4444444444444444,
             "#bd3786"
            ],
            [
             0.5555555555555556,
             "#d8576b"
            ],
            [
             0.6666666666666666,
             "#ed7953"
            ],
            [
             0.7777777777777778,
             "#fb9f3a"
            ],
            [
             0.8888888888888888,
             "#fdca26"
            ],
            [
             1.0,
             "#f0f921"
            ]
           ],
           "sequentialminus": [
            [
             0.0,
             "#0d0887"
            ],
            [
             0.1111111111111111,
             "#46039f"
            ],
            [
             0.2222222222222222,
             "#7201a8"
            ],
            [
             0.3333333333333333,
             "#9c179e"
            ],
            [
             0.4444444444444444,
             "#bd3786"
            ],
            [
             0.5555555555555556,
             "#d8576b"
            ],
            [
             0.6666666666666666,
             "#ed7953"
            ],
            [
             0.7777777777777778,
             "#fb9f3a"
            ],
            [
             0.8888888888888888,
             "#fdca26"
            ],
            [
             1.0,
             "#f0f921"
            ]
           ],
           "diverging": [
            [
             0,
             "#8e0152"
            ],
            [
             0.1,
             "#c51b7d"
            ],
            [
             0.2,
             "#de77ae"
            ],
            [
             0.3,
             "#f1b6da"
            ],
            [
             0.4,
             "#fde0ef"
            ],
            [
             0.5,
             "#f7f7f7"
            ],
            [
             0.6,
             "#e6f5d0"
            ],
            [
             0.7,
             "#b8e186"
            ],
            [
             0.8,
             "#7fbc41"
            ],
            [
             0.9,
             "#4d9221"
            ],
            [
             1,
             "#276419"
            ]
           ]
          },
          "xaxis": {
           "gridcolor": "white",
           "linecolor": "white",
           "ticks": "",
           "title": {
            "standoff": 15
           },
           "zerolinecolor": "white",
           "automargin": true,
           "zerolinewidth": 2
          },
          "yaxis": {
           "gridcolor": "white",
           "linecolor": "white",
           "ticks": "",
           "title": {
            "standoff": 15
           },
           "zerolinecolor": "white",
           "automargin": true,
           "zerolinewidth": 2
          },
          "scene": {
           "xaxis": {
            "backgroundcolor": "#E5ECF6",
            "gridcolor": "white",
            "linecolor": "white",
            "showbackground": true,
            "ticks": "",
            "zerolinecolor": "white",
            "gridwidth": 2
           },
           "yaxis": {
            "backgroundcolor": "#E5ECF6",
            "gridcolor": "white",
            "linecolor": "white",
            "showbackground": true,
            "ticks": "",
            "zerolinecolor": "white",
            "gridwidth": 2
           },
           "zaxis": {
            "backgroundcolor": "#E5ECF6",
            "gridcolor": "white",
            "linecolor": "white",
            "showbackground": true,
            "ticks": "",
            "zerolinecolor": "white",
            "gridwidth": 2
           }
          },
          "shapedefaults": {
           "line": {
            "color": "#2a3f5f"
           }
          },
          "annotationdefaults": {
           "arrowcolor": "#2a3f5f",
           "arrowhead": 0,
           "arrowwidth": 1
          },
          "geo": {
           "bgcolor": "white",
           "landcolor": "#E5ECF6",
           "subunitcolor": "white",
           "showland": true,
           "showlakes": true,
           "lakecolor": "white"
          },
          "title": {
           "x": 0.05
          },
          "mapbox": {
           "style": "light"
          }
         }
        }
       },
       "config": {
        "plotlyServerURL": "https://plot.ly"
       }
      },
      "text/html": [
       "<div>                            <div id=\"da80b0de-965b-40c3-a8d0-ffbb791244ce\" class=\"plotly-graph-div\" style=\"height:525px; width:100%;\"></div>            <script type=\"text/javascript\">                require([\"plotly\"], function(Plotly) {                    window.PLOTLYENV=window.PLOTLYENV || {};                                    if (document.getElementById(\"da80b0de-965b-40c3-a8d0-ffbb791244ce\")) {                    Plotly.newPlot(                        \"da80b0de-965b-40c3-a8d0-ffbb791244ce\",                        [{\"cliponaxis\":false,\"hovertemplate\":[\"num_layers (IntDistribution): 0.009430132285153369\\u003cextra\\u003e\\u003c\\u002fextra\\u003e\",\"ppo_epochs (IntDistribution): 0.034436607482252614\\u003cextra\\u003e\\u003c\\u002fextra\\u003e\",\"learning_rate (FloatDistribution): 0.036595969229876624\\u003cextra\\u003e\\u003c\\u002fextra\\u003e\",\"batch_size (IntDistribution): 0.06104204297623482\\u003cextra\\u003e\\u003c\\u002fextra\\u003e\",\"hidden_units (IntDistribution): 0.07260324319073413\\u003cextra\\u003e\\u003c\\u002fextra\\u003e\",\"time_horizon (IntDistribution): 0.08741713476863598\\u003cextra\\u003e\\u003c\\u002fextra\\u003e\",\"entropy_beta (FloatDistribution): 0.09043293398558097\\u003cextra\\u003e\\u003c\\u002fextra\\u003e\",\"eps_clip (FloatDistribution): 0.11246643257422373\\u003cextra\\u003e\\u003c\\u002fextra\\u003e\",\"gamma (FloatDistribution): 0.18359083438784643\\u003cextra\\u003e\\u003c\\u002fextra\\u003e\",\"normalize (CategoricalDistribution): 0.31198466911946143\\u003cextra\\u003e\\u003c\\u002fextra\\u003e\"],\"name\":\"Objective Value\",\"orientation\":\"h\",\"text\":[\"\\u003c0.01\",\"0.03\",\"0.04\",\"0.06\",\"0.07\",\"0.09\",\"0.09\",\"0.11\",\"0.18\",\"0.31\"],\"textposition\":\"outside\",\"x\":[0.009430132285153369,0.034436607482252614,0.036595969229876624,0.06104204297623482,0.07260324319073413,0.08741713476863598,0.09043293398558097,0.11246643257422373,0.18359083438784643,0.31198466911946143],\"y\":[\"num_layers\",\"ppo_epochs\",\"learning_rate\",\"batch_size\",\"hidden_units\",\"time_horizon\",\"entropy_beta\",\"eps_clip\",\"gamma\",\"normalize\"],\"type\":\"bar\"}],                        {\"title\":{\"text\":\"Hyperparameter Importances\"},\"xaxis\":{\"title\":{\"text\":\"Hyperparameter Importance\"}},\"yaxis\":{\"title\":{\"text\":\"Hyperparameter\"}},\"template\":{\"data\":{\"histogram2dcontour\":[{\"type\":\"histogram2dcontour\",\"colorbar\":{\"outlinewidth\":0,\"ticks\":\"\"},\"colorscale\":[[0.0,\"#0d0887\"],[0.1111111111111111,\"#46039f\"],[0.2222222222222222,\"#7201a8\"],[0.3333333333333333,\"#9c179e\"],[0.4444444444444444,\"#bd3786\"],[0.5555555555555556,\"#d8576b\"],[0.6666666666666666,\"#ed7953\"],[0.7777777777777778,\"#fb9f3a\"],[0.8888888888888888,\"#fdca26\"],[1.0,\"#f0f921\"]]}],\"choropleth\":[{\"type\":\"choropleth\",\"colorbar\":{\"outlinewidth\":0,\"ticks\":\"\"}}],\"histogram2d\":[{\"type\":\"histogram2d\",\"colorbar\":{\"outlinewidth\":0,\"ticks\":\"\"},\"colorscale\":[[0.0,\"#0d0887\"],[0.1111111111111111,\"#46039f\"],[0.2222222222222222,\"#7201a8\"],[0.3333333333333333,\"#9c179e\"],[0.4444444444444444,\"#bd3786\"],[0.5555555555555556,\"#d8576b\"],[0.6666666666666666,\"#ed7953\"],[0.7777777777777778,\"#fb9f3a\"],[0.8888888888888888,\"#fdca26\"],[1.0,\"#f0f921\"]]}],\"heatmap\":[{\"type\":\"heatmap\",\"colorbar\":{\"outlinewidth\":0,\"ticks\":\"\"},\"colorscale\":[[0.0,\"#0d0887\"],[0.1111111111111111,\"#46039f\"],[0.2222222222222222,\"#7201a8\"],[0.3333333333333333,\"#9c179e\"],[0.4444444444444444,\"#bd3786\"],[0.5555555555555556,\"#d8576b\"],[0.6666666666666666,\"#ed7953\"],[0.7777777777777778,\"#fb9f3a\"],[0.8888888888888888,\"#fdca26\"],[1.0,\"#f0f921\"]]}],\"heatmapgl\":[{\"type\":\"heatmapgl\",\"colorbar\":{\"outlinewidth\":0,\"ticks\":\"\"},\"colorscale\":[[0.0,\"#0d0887\"],[0.1111111111111111,\"#46039f\"],[0.2222222222222222,\"#7201a8\"],[0.3333333333333333,\"#9c179e\"],[0.4444444444444444,\"#bd3786\"],[0.5555555555555556,\"#d8576b\"],[0.6666666666666666,\"#ed7953\"],[0.7777777777777778,\"#fb9f3a\"],[0.8888888888888888,\"#fdca26\"],[1.0,\"#f0f921\"]]}],\"contourcarpet\":[{\"type\":\"contourcarpet\",\"colorbar\":{\"outlinewidth\":0,\"ticks\":\"\"}}],\"contour\":[{\"type\":\"contour\",\"colorbar\":{\"outlinewidth\":0,\"ticks\":\"\"},\"colorscale\":[[0.0,\"#0d0887\"],[0.1111111111111111,\"#46039f\"],[0.2222222222222222,\"#7201a8\"],[0.3333333333333333,\"#9c179e\"],[0.4444444444444444,\"#bd3786\"],[0.5555555555555556,\"#d8576b\"],[0.6666666666666666,\"#ed7953\"],[0.7777777777777778,\"#fb9f3a\"],[0.8888888888888888,\"#fdca26\"],[1.0,\"#f0f921\"]]}],\"surface\":[{\"type\":\"surface\",\"colorbar\":{\"outlinewidth\":0,\"ticks\":\"\"},\"colorscale\":[[0.0,\"#0d0887\"],[0.1111111111111111,\"#46039f\"],[0.2222222222222222,\"#7201a8\"],[0.3333333333333333,\"#9c179e\"],[0.4444444444444444,\"#bd3786\"],[0.5555555555555556,\"#d8576b\"],[0.6666666666666666,\"#ed7953\"],[0.7777777777777778,\"#fb9f3a\"],[0.8888888888888888,\"#fdca26\"],[1.0,\"#f0f921\"]]}],\"mesh3d\":[{\"type\":\"mesh3d\",\"colorbar\":{\"outlinewidth\":0,\"ticks\":\"\"}}],\"scatter\":[{\"fillpattern\":{\"fillmode\":\"overlay\",\"size\":10,\"solidity\":0.2},\"type\":\"scatter\"}],\"parcoords\":[{\"type\":\"parcoords\",\"line\":{\"colorbar\":{\"outlinewidth\":0,\"ticks\":\"\"}}}],\"scatterpolargl\":[{\"type\":\"scatterpolargl\",\"marker\":{\"colorbar\":{\"outlinewidth\":0,\"ticks\":\"\"}}}],\"bar\":[{\"error_x\":{\"color\":\"#2a3f5f\"},\"error_y\":{\"color\":\"#2a3f5f\"},\"marker\":{\"line\":{\"color\":\"#E5ECF6\",\"width\":0.5},\"pattern\":{\"fillmode\":\"overlay\",\"size\":10,\"solidity\":0.2}},\"type\":\"bar\"}],\"scattergeo\":[{\"type\":\"scattergeo\",\"marker\":{\"colorbar\":{\"outlinewidth\":0,\"ticks\":\"\"}}}],\"scatterpolar\":[{\"type\":\"scatterpolar\",\"marker\":{\"colorbar\":{\"outlinewidth\":0,\"ticks\":\"\"}}}],\"histogram\":[{\"marker\":{\"pattern\":{\"fillmode\":\"overlay\",\"size\":10,\"solidity\":0.2}},\"type\":\"histogram\"}],\"scattergl\":[{\"type\":\"scattergl\",\"marker\":{\"colorbar\":{\"outlinewidth\":0,\"ticks\":\"\"}}}],\"scatter3d\":[{\"type\":\"scatter3d\",\"line\":{\"colorbar\":{\"outlinewidth\":0,\"ticks\":\"\"}},\"marker\":{\"colorbar\":{\"outlinewidth\":0,\"ticks\":\"\"}}}],\"scattermapbox\":[{\"type\":\"scattermapbox\",\"marker\":{\"colorbar\":{\"outlinewidth\":0,\"ticks\":\"\"}}}],\"scatterternary\":[{\"type\":\"scatterternary\",\"marker\":{\"colorbar\":{\"outlinewidth\":0,\"ticks\":\"\"}}}],\"scattercarpet\":[{\"type\":\"scattercarpet\",\"marker\":{\"colorbar\":{\"outlinewidth\":0,\"ticks\":\"\"}}}],\"carpet\":[{\"aaxis\":{\"endlinecolor\":\"#2a3f5f\",\"gridcolor\":\"white\",\"linecolor\":\"white\",\"minorgridcolor\":\"white\",\"startlinecolor\":\"#2a3f5f\"},\"baxis\":{\"endlinecolor\":\"#2a3f5f\",\"gridcolor\":\"white\",\"linecolor\":\"white\",\"minorgridcolor\":\"white\",\"startlinecolor\":\"#2a3f5f\"},\"type\":\"carpet\"}],\"table\":[{\"cells\":{\"fill\":{\"color\":\"#EBF0F8\"},\"line\":{\"color\":\"white\"}},\"header\":{\"fill\":{\"color\":\"#C8D4E3\"},\"line\":{\"color\":\"white\"}},\"type\":\"table\"}],\"barpolar\":[{\"marker\":{\"line\":{\"color\":\"#E5ECF6\",\"width\":0.5},\"pattern\":{\"fillmode\":\"overlay\",\"size\":10,\"solidity\":0.2}},\"type\":\"barpolar\"}],\"pie\":[{\"automargin\":true,\"type\":\"pie\"}]},\"layout\":{\"autotypenumbers\":\"strict\",\"colorway\":[\"#636efa\",\"#EF553B\",\"#00cc96\",\"#ab63fa\",\"#FFA15A\",\"#19d3f3\",\"#FF6692\",\"#B6E880\",\"#FF97FF\",\"#FECB52\"],\"font\":{\"color\":\"#2a3f5f\"},\"hovermode\":\"closest\",\"hoverlabel\":{\"align\":\"left\"},\"paper_bgcolor\":\"white\",\"plot_bgcolor\":\"#E5ECF6\",\"polar\":{\"bgcolor\":\"#E5ECF6\",\"angularaxis\":{\"gridcolor\":\"white\",\"linecolor\":\"white\",\"ticks\":\"\"},\"radialaxis\":{\"gridcolor\":\"white\",\"linecolor\":\"white\",\"ticks\":\"\"}},\"ternary\":{\"bgcolor\":\"#E5ECF6\",\"aaxis\":{\"gridcolor\":\"white\",\"linecolor\":\"white\",\"ticks\":\"\"},\"baxis\":{\"gridcolor\":\"white\",\"linecolor\":\"white\",\"ticks\":\"\"},\"caxis\":{\"gridcolor\":\"white\",\"linecolor\":\"white\",\"ticks\":\"\"}},\"coloraxis\":{\"colorbar\":{\"outlinewidth\":0,\"ticks\":\"\"}},\"colorscale\":{\"sequential\":[[0.0,\"#0d0887\"],[0.1111111111111111,\"#46039f\"],[0.2222222222222222,\"#7201a8\"],[0.3333333333333333,\"#9c179e\"],[0.4444444444444444,\"#bd3786\"],[0.5555555555555556,\"#d8576b\"],[0.6666666666666666,\"#ed7953\"],[0.7777777777777778,\"#fb9f3a\"],[0.8888888888888888,\"#fdca26\"],[1.0,\"#f0f921\"]],\"sequentialminus\":[[0.0,\"#0d0887\"],[0.1111111111111111,\"#46039f\"],[0.2222222222222222,\"#7201a8\"],[0.3333333333333333,\"#9c179e\"],[0.4444444444444444,\"#bd3786\"],[0.5555555555555556,\"#d8576b\"],[0.6666666666666666,\"#ed7953\"],[0.7777777777777778,\"#fb9f3a\"],[0.8888888888888888,\"#fdca26\"],[1.0,\"#f0f921\"]],\"diverging\":[[0,\"#8e0152\"],[0.1,\"#c51b7d\"],[0.2,\"#de77ae\"],[0.3,\"#f1b6da\"],[0.4,\"#fde0ef\"],[0.5,\"#f7f7f7\"],[0.6,\"#e6f5d0\"],[0.7,\"#b8e186\"],[0.8,\"#7fbc41\"],[0.9,\"#4d9221\"],[1,\"#276419\"]]},\"xaxis\":{\"gridcolor\":\"white\",\"linecolor\":\"white\",\"ticks\":\"\",\"title\":{\"standoff\":15},\"zerolinecolor\":\"white\",\"automargin\":true,\"zerolinewidth\":2},\"yaxis\":{\"gridcolor\":\"white\",\"linecolor\":\"white\",\"ticks\":\"\",\"title\":{\"standoff\":15},\"zerolinecolor\":\"white\",\"automargin\":true,\"zerolinewidth\":2},\"scene\":{\"xaxis\":{\"backgroundcolor\":\"#E5ECF6\",\"gridcolor\":\"white\",\"linecolor\":\"white\",\"showbackground\":true,\"ticks\":\"\",\"zerolinecolor\":\"white\",\"gridwidth\":2},\"yaxis\":{\"backgroundcolor\":\"#E5ECF6\",\"gridcolor\":\"white\",\"linecolor\":\"white\",\"showbackground\":true,\"ticks\":\"\",\"zerolinecolor\":\"white\",\"gridwidth\":2},\"zaxis\":{\"backgroundcolor\":\"#E5ECF6\",\"gridcolor\":\"white\",\"linecolor\":\"white\",\"showbackground\":true,\"ticks\":\"\",\"zerolinecolor\":\"white\",\"gridwidth\":2}},\"shapedefaults\":{\"line\":{\"color\":\"#2a3f5f\"}},\"annotationdefaults\":{\"arrowcolor\":\"#2a3f5f\",\"arrowhead\":0,\"arrowwidth\":1},\"geo\":{\"bgcolor\":\"white\",\"landcolor\":\"#E5ECF6\",\"subunitcolor\":\"white\",\"showland\":true,\"showlakes\":true,\"lakecolor\":\"white\"},\"title\":{\"x\":0.05},\"mapbox\":{\"style\":\"light\"}}}},                        {\"responsive\": true}                    ).then(function(){\n",
       "                            \n",
       "var gd = document.getElementById('da80b0de-965b-40c3-a8d0-ffbb791244ce');\n",
       "var x = new MutationObserver(function (mutations, observer) {{\n",
       "        var display = window.getComputedStyle(gd).display;\n",
       "        if (!display || display === 'none') {{\n",
       "            console.log([gd, 'removed!']);\n",
       "            Plotly.purge(gd);\n",
       "            observer.disconnect();\n",
       "        }}\n",
       "}});\n",
       "\n",
       "// Listen for the removal of the full notebook cells\n",
       "var notebookContainer = gd.closest('#notebook-container');\n",
       "if (notebookContainer) {{\n",
       "    x.observe(notebookContainer, {childList: true});\n",
       "}}\n",
       "\n",
       "// Listen for the clearing of the current output cell\n",
       "var outputEl = gd.closest('.output');\n",
       "if (outputEl) {{\n",
       "    x.observe(outputEl, {childList: true});\n",
       "}}\n",
       "\n",
       "                        })                };                });            </script>        </div>"
      ]
     },
     "metadata": {},
     "output_type": "display_data"
    }
   ],
   "execution_count": 31
  },
  {
   "metadata": {
    "ExecuteTime": {
     "end_time": "2024-12-04T14:48:17.410656Z",
     "start_time": "2024-12-04T14:48:17.402762Z"
    }
   },
   "cell_type": "code",
   "source": [
    "therapeutic_range_times = []\n",
    "\n",
    "for trajectory in plasma_concentration_trajectories:\n",
    "    time_in_range = sum(env.therapeutic_range[0] <= c <= env.therapeutic_range[1] for c in trajectory)\n",
    "    therapeutic_range_times.append(time_in_range / len(trajectory))\n",
    "\n",
    "avg_time_in_therapeutic_range = np.mean(therapeutic_range_times)\n",
    "print(f\"Average Time in Therapeutic Range: {avg_time_in_therapeutic_range * 100:.2f}%\")\n"
   ],
   "id": "7a3ca762686dc354",
   "outputs": [
    {
     "name": "stdout",
     "output_type": "stream",
     "text": [
      "Average Time in Therapeutic Range: 8.00%\n"
     ]
    }
   ],
   "execution_count": 32
  },
  {
   "metadata": {
    "ExecuteTime": {
     "end_time": "2024-12-04T14:48:17.430986Z",
     "start_time": "2024-12-04T14:48:17.423690Z"
    }
   },
   "cell_type": "code",
   "source": [
    "\n",
    "toxic_level_exceedances = sum(c > 100 for trajectory in plasma_concentration_trajectories for c in trajectory)\n",
    "print(f\"Toxic Level Exceedances Across All Episodes: {toxic_level_exceedances}\")\n",
    "\n",
    "survival_rate = sum(1 for trajectory in plasma_concentration_trajectories if max(trajectory) <= 100) / len(plasma_concentration_trajectories)\n",
    "print(f\"Survival Rate: {survival_rate * 100:.2f}%\")"
   ],
   "id": "913399f63a3db66d",
   "outputs": [
    {
     "name": "stdout",
     "output_type": "stream",
     "text": [
      "Toxic Level Exceedances Across All Episodes: 0\n",
      "Survival Rate: 100.00%\n"
     ]
    }
   ],
   "execution_count": 33
  },
  {
   "metadata": {
    "ExecuteTime": {
     "end_time": "2024-12-04T14:48:17.640916Z",
     "start_time": "2024-12-04T14:48:17.443440Z"
    }
   },
   "cell_type": "code",
   "source": [
    "import seaborn as sns\n",
    "import matplotlib.pyplot as plt\n",
    "import numpy as np\n",
    "\n",
    "# Assuming the following line has been executed previously:\n",
    "# plasma_concentration_trajectories = store plasma concentration data from evaluation episodes\n",
    "\n",
    "# Convert the list of plasma concentrations into a 2D array (episodes x time steps)\n",
    "# Each row in plasma_concentration_trajectories corresponds to one episode's concentration over time\n",
    "plasma_concentrations_matrix = np.array(plasma_concentration_trajectories)\n",
    "\n",
    "# Plotting the heatmap\n",
    "plt.figure(figsize=(10, 8))\n",
    "sns.heatmap(plasma_concentrations_matrix, cmap='coolwarm', annot=False, cbar=True, xticklabels=5, yticklabels=10)\n",
    "\n",
    "# Add horizontal lines for therapeutic range and toxic threshold\n",
    "plt.axhline(y=10, color='g', linestyle='--', label='Therapeutic Lower Bound (10 mg/L)')\n",
    "plt.axhline(y=50, color='g', linestyle='--', label='Therapeutic Upper Bound (50 mg/L)')\n",
    "plt.axhline(y=100, color='r', linestyle='--', label='Toxic Threshold (>100 mg/L)')\n",
    "\n",
    "# Labeling and formatting the plot\n",
    "plt.xlabel('Time Step')\n",
    "plt.ylabel('Episode')\n",
    "plt.title('Plasma Concentration Heatmap Over Time Across Episodes (Custom PPO)')\n",
    "plt.legend()\n",
    "plt.grid(True)\n",
    "plt.show()\n"
   ],
   "id": "f840823dd20f0665",
   "outputs": [
    {
     "data": {
      "text/plain": [
       "<Figure size 1000x800 with 2 Axes>"
      ],
      "image/png": "[encoded data removed]"
     },
     "metadata": {},
     "output_type": "display_data"
    }
   ],
   "execution_count": 34
  },
  {
   "metadata": {
    "ExecuteTime": {
     "end_time": "2024-12-04T14:48:17.835435Z",
     "start_time": "2024-12-04T14:48:17.660038Z"
    }
   },
   "cell_type": "code",
   "source": [
    "import seaborn as sns\n",
    "import matplotlib.pyplot as plt\n",
    "import numpy as np\n",
    "\n",
    "# Assuming the following line has been executed previously:\n",
    "# plasma_concentration_trajectories = store plasma concentration data from evaluation episodes\n",
    "\n",
    "# Convert the list of plasma concentrations into a 2D array (episodes x time steps)\n",
    "# Each row in plasma_concentration_trajectories corresponds to one episode's concentration over time\n",
    "plasma_concentrations_matrix = np.array(plasma_concentration_trajectories)\n",
    "\n",
    "# Plotting the heatmap\n",
    "plt.figure(figsize=(10, 8))\n",
    "sns.heatmap(plasma_concentrations_matrix, cmap='coolwarm', annot=False, cbar=True, xticklabels=5, yticklabels=10)\n",
    "\n",
    "# Add horizontal lines for therapeutic range and toxic threshold\n",
    "plt.axhline(y=10, color='g', linestyle='--', label='Therapeutic Lower Bound (10 mg/L)')\n",
    "plt.axhline(y=50, color='g', linestyle='--', label='Therapeutic Upper Bound (50 mg/L)')\n",
    "plt.axhline(y=100, color='r', linestyle='--', label='Toxic Threshold (>100 mg/L)')\n",
    "\n",
    "# Labeling and formatting the plot\n",
    "plt.xlabel('Time Step')\n",
    "plt.ylabel('Episode')\n",
    "plt.title('Plasma Concentration Heatmap Over Time Across Episodes (Custom PPO)')\n",
    "plt.legend()\n",
    "plt.grid(True)\n",
    "plt.show()\n"
   ],
   "id": "977a7c5a29ce7866",
   "outputs": [
    {
     "data": {
      "text/plain": [
       "<Figure size 1000x800 with 2 Axes>"
      ],
      "image/png": "[encoded data removed]"
     },
     "metadata": {},
     "output_type": "display_data"
    }
   ],
   "execution_count": 35
  },
  {
   "metadata": {
    "ExecuteTime": {
     "end_time": "2024-12-04T14:48:17.952403Z",
     "start_time": "2024-12-04T14:48:17.849393Z"
    }
   },
   "cell_type": "code",
   "source": [
    "\n",
    "cumulative_rewards = np.cumsum(reward_history)\n",
    "\n",
    "plt.figure(figsize=(12, 6))\n",
    "plt.plot(cumulative_rewards)\n",
    "plt.xlabel(\"Episode\")\n",
    "plt.ylabel(\"Cumulative Reward\")\n",
    "plt.title(\"Cumulative Reward Trend - Custom PPO\")\n",
    "plt.grid()\n",
    "plt.show()"
   ],
   "id": "d502fb0167dcfb49",
   "outputs": [
    {
     "data": {
      "text/plain": [
       "<Figure size 1200x600 with 1 Axes>"
      ],
      "image/png": "[encoded data removed]"
     },
     "metadata": {},
     "output_type": "display_data"
    }
   ],
   "execution_count": 36
  }
 ],
 "metadata": {
  "kernelspec": {
   "display_name": "Python 3",
   "language": "python",
   "name": "python3"
  },
  "language_info": {
   "codemirror_mode": {
    "name": "ipython",
    "version": 2
   },
   "file_extension": ".py",
   "mimetype": "text/x-python",
   "name": "python",
   "nbconvert_exporter": "python",
   "pygments_lexer": "ipython2",
   "version": "2.7.6"
  }
 },
 "nbformat": 4,
 "nbformat_minor": 5
}
